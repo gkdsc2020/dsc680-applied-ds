{
 "cells": [
  {
   "cell_type": "markdown",
   "id": "ddb82c82-da30-4cf9-a1b2-191419cb5286",
   "metadata": {},
   "source": [
    "# Title:    Transaction Categorization\n",
    "\n",
    "## Business Understanding:-\n",
    "\n",
    "### Introduction:\n",
    "\n",
    "Transaction categorization is the ability to recognize the purpose of a transaction based on its description. For long, this process was done manually but now technology can do it efficiently. \n",
    "\n",
    "This project will focus on Natural Language Processing using the power of Machine Learning to predict which category a transaction will fall into, given the description of the transaction.\n",
    "\n",
    "It is no surprise that financial companies need to help their customers organize their finances. Customers want to know what they spend their money on to keep balances in check. \n",
    "\n",
    "By categorizing transactions and building better customer engagement tools, Banks can help customers identify frequent purchases and subscriptions, sort income and activity liability with higher accuracy, and reduce credit risks. \n",
    "\n",
    "\n",
    "### Business Problem:\n",
    "\n",
    "This project will focus on Natural Language Processing using the power of Machine Learning to predict which category a transaction will fall into, given the description of the transaction. \n",
    "\n",
    "Goal - Build a model to predict transaction categories using the 10 (ten) distinct categories that a transaction may fall into. The categories are as follows:\n",
    "\n",
    " 1.\tCommunication Services \n",
    " 2.\tEducation \n",
    " 3.\tEntertainment\n",
    " 4.\tFinance \n",
    " 5.\tHealth and Community Service \n",
    " 6.\tProperty and Business Services \n",
    " 7.\tRetail Trade \n",
    " 8.\tServices to Transport \n",
    " 9.\tTrade, Professional and Personal Services\n",
    " 10.\tTravel\n",
    "\n",
    "\n",
    "\n",
    "#### Techniques:\n",
    "\n",
    "The model would be built using NLP and Classification Machine Learnings.\n",
    "\n",
    "\n",
    "### Data Definitions:\n",
    "\n",
    "The dataset provided on the Challenge page is synthetic. This dataset has been scrubbed to replace all transaction numbers with 1's.\n",
    "\n",
    "Training Dataset – The Training Dataset contains 40,000 unique transactions and their corresponding transaction categories. This data set is used to train the model.\n",
    "\n",
    "Test Dataset – The Test Dataset contains 10,000 unique transactions with the transaction categories omitted. This dataset will be used to test the solution and identify the correct transaction categories.\n",
    "\n",
    "The fields in the training data set and testing dataset are same except category which is not present in testing data set. The details description of each field is given in table below –\n",
    "\n",
    "\n",
    "     \n",
    "Field:\n",
    "\n",
    "* CDF_SEQ_ID\tUnique number to identify Wells Fargo transaction. This has been prepended with a 'T' to prevent accidental formatting as a number by Excel.\n",
    "* SOR\tSource of record (HH = ACH, HY = Bill Pay, CC = Credit Card)\n",
    "* trans_desc\tDescription of the transaction\n",
    "* merchant_cat_code\tISO18245 merchant category code\n",
    "* amt\ttransaction amount\n",
    "* db_cr_cd\tflag for credit c, or debit d\n",
    "* payment_reporting_category\tType of payment (Wire transfer, bill pay, etc.)\n",
    "* is_international\tInternational transaction flag\n",
    "* default_brand\tMerchant Name\n",
    "* default_location\tmerchant location\n",
    "* qrated brand\tSanitized merchant name\n",
    "* coalesced_brand\tSanitized brand where it exists; default brand otherwise\n",
    "* cateogy\ttransaction type\n"
   ]
  },
  {
   "cell_type": "markdown",
   "id": "31707ebd-1804-40ca-974d-4c9dbf5755d1",
   "metadata": {},
   "source": [
    "## Data Understanding:"
   ]
  },
  {
   "cell_type": "code",
   "execution_count": 97,
   "id": "8ee60310-6aae-45c1-921f-fb45b2fe20d0",
   "metadata": {},
   "outputs": [],
   "source": [
    "# import required libraries\n",
    "\n",
    "import numpy as np\n",
    "import pandas as pd\n",
    "import seaborn as sns\n",
    "import matplotlib.pyplot as plt\n",
    "import re\n",
    "import missingno as msno\n",
    "import tensorflow as tf\n",
    "from keras.models import Sequential\n",
    "from keras.layers.recurrent import LSTM, GRU\n",
    "from keras.layers.core import Dense, Activation, Dropout\n",
    "from keras.layers.embeddings import Embedding\n",
    "from tensorflow.keras.layers import BatchNormalization\n",
    "from keras.utils import np_utils\n",
    "from keras.layers import GlobalMaxPooling1D, Conv1D, MaxPooling1D, Flatten, Bidirectional, SpatialDropout1D\n",
    "from sklearn.model_selection import train_test_split\n",
    "from keras.preprocessing import sequence\n",
    "from keras.preprocessing.text import Tokenizer\n",
    "from keras.callbacks import EarlyStopping\n",
    "\n",
    "\n",
    "\n",
    "from IPython.core.interactiveshell import InteractiveShell\n",
    "InteractiveShell.ast_node_interactivity = 'all'"
   ]
  },
  {
   "cell_type": "code",
   "execution_count": 2,
   "id": "69c34958-6f71-451d-98ae-417675e13b65",
   "metadata": {},
   "outputs": [
    {
     "name": "stdout",
     "output_type": "stream",
     "text": [
      "Training Data Head\n"
     ]
    },
    {
     "data": {
      "text/plain": [
       "(40000, 14)"
      ]
     },
     "execution_count": 2,
     "metadata": {},
     "output_type": "execute_result"
    },
    {
     "data": {
      "text/html": [
       "<div>\n",
       "<style scoped>\n",
       "    .dataframe tbody tr th:only-of-type {\n",
       "        vertical-align: middle;\n",
       "    }\n",
       "\n",
       "    .dataframe tbody tr th {\n",
       "        vertical-align: top;\n",
       "    }\n",
       "\n",
       "    .dataframe thead th {\n",
       "        text-align: right;\n",
       "    }\n",
       "</style>\n",
       "<table border=\"1\" class=\"dataframe\">\n",
       "  <thead>\n",
       "    <tr style=\"text-align: right;\">\n",
       "      <th></th>\n",
       "      <th>sor</th>\n",
       "      <th>cdf_seq_no</th>\n",
       "      <th>trans_desc</th>\n",
       "      <th>merchant_cat_code</th>\n",
       "      <th>amt</th>\n",
       "      <th>db_cr_cd</th>\n",
       "      <th>payment_reporting_category</th>\n",
       "      <th>payment_category</th>\n",
       "      <th>is_international</th>\n",
       "      <th>default_brand</th>\n",
       "      <th>default_location</th>\n",
       "      <th>qrated_brand</th>\n",
       "      <th>coalesced_brand</th>\n",
       "      <th>Category</th>\n",
       "    </tr>\n",
       "  </thead>\n",
       "  <tbody>\n",
       "    <tr>\n",
       "      <th>0</th>\n",
       "      <td>HH</td>\n",
       "      <td>T20110701260061756</td>\n",
       "      <td>RECUR DEBIT CRD PMT11/11 DELTA DENTAL OF A11 O...</td>\n",
       "      <td>6300.0</td>\n",
       "      <td>58.34</td>\n",
       "      <td>D</td>\n",
       "      <td>Card</td>\n",
       "      <td>Debit Card</td>\n",
       "      <td>False</td>\n",
       "      <td>DELTA DENTAL OF A11 OF</td>\n",
       "      <td>111-1111111 AR</td>\n",
       "      <td>Delta Dental</td>\n",
       "      <td>Delta Dental</td>\n",
       "      <td>Finance</td>\n",
       "    </tr>\n",
       "    <tr>\n",
       "      <th>1</th>\n",
       "      <td>HH</td>\n",
       "      <td>T201302289909010349</td>\n",
       "      <td>CHECK CRD PURCHASE 11/11 SURETY SOLUTIONS,    ...</td>\n",
       "      <td>NaN</td>\n",
       "      <td>103.00</td>\n",
       "      <td>D</td>\n",
       "      <td>Card</td>\n",
       "      <td>Check Card</td>\n",
       "      <td>False</td>\n",
       "      <td>SURETY SOLUTIONS,</td>\n",
       "      <td>111-111-1111 OR</td>\n",
       "      <td>Surety Solutions</td>\n",
       "      <td>Surety Solutions</td>\n",
       "      <td>Finance</td>\n",
       "    </tr>\n",
       "    <tr>\n",
       "      <th>2</th>\n",
       "      <td>HH</td>\n",
       "      <td>T20130726991361190114550</td>\n",
       "      <td>CHECK CRD PURCHASE 11/11 THE COPY STOP        ...</td>\n",
       "      <td>NaN</td>\n",
       "      <td>22.44</td>\n",
       "      <td>D</td>\n",
       "      <td>Card</td>\n",
       "      <td>Check Card</td>\n",
       "      <td>False</td>\n",
       "      <td>THE COPY STOP</td>\n",
       "      <td>SALT LAKE CIT UT</td>\n",
       "      <td>The Copy Stop</td>\n",
       "      <td>The Copy Stop</td>\n",
       "      <td>Finance</td>\n",
       "    </tr>\n",
       "    <tr>\n",
       "      <th>3</th>\n",
       "      <td>BK</td>\n",
       "      <td>T201207095780929968</td>\n",
       "      <td>MARKET ALERT INC         111-111-1111 TX</td>\n",
       "      <td>7375.0</td>\n",
       "      <td>22.44</td>\n",
       "      <td>NaN</td>\n",
       "      <td>Card</td>\n",
       "      <td>Credit Card</td>\n",
       "      <td>False</td>\n",
       "      <td>MARKET ALERT INC</td>\n",
       "      <td>111-111-1111 TX</td>\n",
       "      <td>Market Alert</td>\n",
       "      <td>Market Alert</td>\n",
       "      <td>Finance</td>\n",
       "    </tr>\n",
       "    <tr>\n",
       "      <th>4</th>\n",
       "      <td>HH</td>\n",
       "      <td>T20131230990558080004939</td>\n",
       "      <td>CHECK CRD PURCHASE 11/11 PERT- NER PERFECT    ...</td>\n",
       "      <td>NaN</td>\n",
       "      <td>66.25</td>\n",
       "      <td>D</td>\n",
       "      <td>Card</td>\n",
       "      <td>Check Card</td>\n",
       "      <td>False</td>\n",
       "      <td>PERT- NER PERFECT</td>\n",
       "      <td>THE WOODLANDS TX</td>\n",
       "      <td>Hometown Insurance Partners</td>\n",
       "      <td>Hometown Insurance Partners</td>\n",
       "      <td>Finance</td>\n",
       "    </tr>\n",
       "  </tbody>\n",
       "</table>\n",
       "</div>"
      ],
      "text/plain": [
       "  sor                cdf_seq_no  \\\n",
       "0  HH        T20110701260061756   \n",
       "1  HH       T201302289909010349   \n",
       "2  HH  T20130726991361190114550   \n",
       "3  BK       T201207095780929968   \n",
       "4  HH  T20131230990558080004939   \n",
       "\n",
       "                                          trans_desc  merchant_cat_code  \\\n",
       "0  RECUR DEBIT CRD PMT11/11 DELTA DENTAL OF A11 O...             6300.0   \n",
       "1  CHECK CRD PURCHASE 11/11 SURETY SOLUTIONS,    ...                NaN   \n",
       "2  CHECK CRD PURCHASE 11/11 THE COPY STOP        ...                NaN   \n",
       "3           MARKET ALERT INC         111-111-1111 TX             7375.0   \n",
       "4  CHECK CRD PURCHASE 11/11 PERT- NER PERFECT    ...                NaN   \n",
       "\n",
       "      amt db_cr_cd payment_reporting_category payment_category  \\\n",
       "0   58.34        D                       Card       Debit Card   \n",
       "1  103.00        D                       Card       Check Card   \n",
       "2   22.44        D                       Card       Check Card   \n",
       "3   22.44      NaN                       Card      Credit Card   \n",
       "4   66.25        D                       Card       Check Card   \n",
       "\n",
       "   is_international           default_brand  default_location  \\\n",
       "0             False  DELTA DENTAL OF A11 OF    111-1111111 AR   \n",
       "1             False       SURETY SOLUTIONS,   111-111-1111 OR   \n",
       "2             False           THE COPY STOP  SALT LAKE CIT UT   \n",
       "3             False        MARKET ALERT INC   111-111-1111 TX   \n",
       "4             False       PERT- NER PERFECT  THE WOODLANDS TX   \n",
       "\n",
       "                  qrated_brand              coalesced_brand Category  \n",
       "0                 Delta Dental                 Delta Dental  Finance  \n",
       "1             Surety Solutions             Surety Solutions  Finance  \n",
       "2                The Copy Stop                The Copy Stop  Finance  \n",
       "3                 Market Alert                 Market Alert  Finance  \n",
       "4  Hometown Insurance Partners  Hometown Insurance Partners  Finance  "
      ]
     },
     "execution_count": 2,
     "metadata": {},
     "output_type": "execute_result"
    },
    {
     "name": "stdout",
     "output_type": "stream",
     "text": [
      "\n",
      "Testing Data Head\n",
      "\n"
     ]
    },
    {
     "data": {
      "text/plain": [
       "(10000, 14)"
      ]
     },
     "execution_count": 2,
     "metadata": {},
     "output_type": "execute_result"
    },
    {
     "data": {
      "text/html": [
       "<div>\n",
       "<style scoped>\n",
       "    .dataframe tbody tr th:only-of-type {\n",
       "        vertical-align: middle;\n",
       "    }\n",
       "\n",
       "    .dataframe tbody tr th {\n",
       "        vertical-align: top;\n",
       "    }\n",
       "\n",
       "    .dataframe thead th {\n",
       "        text-align: right;\n",
       "    }\n",
       "</style>\n",
       "<table border=\"1\" class=\"dataframe\">\n",
       "  <thead>\n",
       "    <tr style=\"text-align: right;\">\n",
       "      <th></th>\n",
       "      <th>sor</th>\n",
       "      <th>cdf_seq_no</th>\n",
       "      <th>trans_desc</th>\n",
       "      <th>merchant_cat_code</th>\n",
       "      <th>amt</th>\n",
       "      <th>db_cr_cd</th>\n",
       "      <th>payment_reporting_category</th>\n",
       "      <th>payment_category</th>\n",
       "      <th>is_international</th>\n",
       "      <th>default_brand</th>\n",
       "      <th>default_location</th>\n",
       "      <th>qrated_brand</th>\n",
       "      <th>coalesced_brand</th>\n",
       "      <th>Category</th>\n",
       "    </tr>\n",
       "  </thead>\n",
       "  <tbody>\n",
       "    <tr>\n",
       "      <th>0</th>\n",
       "      <td>HH</td>\n",
       "      <td>T20131230990668080055738</td>\n",
       "      <td>CHECK CRD PURCHASE 11/11 PACKAGE EXPRESS      ...</td>\n",
       "      <td>NaN</td>\n",
       "      <td>10.35</td>\n",
       "      <td>D</td>\n",
       "      <td>Card</td>\n",
       "      <td>Check Card</td>\n",
       "      <td>False</td>\n",
       "      <td>PACKAGE EXPRESS</td>\n",
       "      <td>LACEY WA</td>\n",
       "      <td>Package Express</td>\n",
       "      <td>Package Express</td>\n",
       "      <td>NaN</td>\n",
       "    </tr>\n",
       "    <tr>\n",
       "      <th>1</th>\n",
       "      <td>HH</td>\n",
       "      <td>T201302289918775816</td>\n",
       "      <td>RECUR DEBIT CRD PMT11/11 YP *FRMLY AT&amp;T AD    ...</td>\n",
       "      <td>NaN</td>\n",
       "      <td>36.00</td>\n",
       "      <td>D</td>\n",
       "      <td>Card</td>\n",
       "      <td>Debit Card</td>\n",
       "      <td>False</td>\n",
       "      <td>YP *FRMLY AT&amp;T AD</td>\n",
       "      <td>111-111-1111 CA</td>\n",
       "      <td>At And T</td>\n",
       "      <td>At And T</td>\n",
       "      <td>NaN</td>\n",
       "    </tr>\n",
       "    <tr>\n",
       "      <th>2</th>\n",
       "      <td>HH</td>\n",
       "      <td>T20130726991361190218055</td>\n",
       "      <td>CHECK CRD PURCHASE 11/11 NORMAN G JENSEN IN   ...</td>\n",
       "      <td>NaN</td>\n",
       "      <td>27.00</td>\n",
       "      <td>D</td>\n",
       "      <td>Card</td>\n",
       "      <td>Check Card</td>\n",
       "      <td>False</td>\n",
       "      <td>NORMAN G JENSEN IN</td>\n",
       "      <td>111-1111111 MN</td>\n",
       "      <td>Norman G Jensen</td>\n",
       "      <td>Norman G Jensen</td>\n",
       "      <td>NaN</td>\n",
       "    </tr>\n",
       "    <tr>\n",
       "      <th>3</th>\n",
       "      <td>HH</td>\n",
       "      <td>T201208319924922772</td>\n",
       "      <td>CHECK CRD PUR RTRN 11/11 TWILIO               ...</td>\n",
       "      <td>NaN</td>\n",
       "      <td>20.00</td>\n",
       "      <td>C</td>\n",
       "      <td>Card</td>\n",
       "      <td>Check Card</td>\n",
       "      <td>False</td>\n",
       "      <td>TWILIO</td>\n",
       "      <td>SAN FARANSICO CA</td>\n",
       "      <td>Twilio</td>\n",
       "      <td>Twilio</td>\n",
       "      <td>NaN</td>\n",
       "    </tr>\n",
       "    <tr>\n",
       "      <th>4</th>\n",
       "      <td>HH</td>\n",
       "      <td>T20131230990638080027066</td>\n",
       "      <td>CHECK CRD PURCHASE 11/11 AT&amp;T D11K 1111       ...</td>\n",
       "      <td>NaN</td>\n",
       "      <td>325.78</td>\n",
       "      <td>D</td>\n",
       "      <td>Card</td>\n",
       "      <td>Check Card</td>\n",
       "      <td>False</td>\n",
       "      <td>AT&amp;T D11K 1111</td>\n",
       "      <td>FORT WORTH TX</td>\n",
       "      <td>At And T</td>\n",
       "      <td>At And T</td>\n",
       "      <td>NaN</td>\n",
       "    </tr>\n",
       "  </tbody>\n",
       "</table>\n",
       "</div>"
      ],
      "text/plain": [
       "  sor                cdf_seq_no  \\\n",
       "0  HH  T20131230990668080055738   \n",
       "1  HH       T201302289918775816   \n",
       "2  HH  T20130726991361190218055   \n",
       "3  HH       T201208319924922772   \n",
       "4  HH  T20131230990638080027066   \n",
       "\n",
       "                                          trans_desc  merchant_cat_code  \\\n",
       "0  CHECK CRD PURCHASE 11/11 PACKAGE EXPRESS      ...                NaN   \n",
       "1  RECUR DEBIT CRD PMT11/11 YP *FRMLY AT&T AD    ...                NaN   \n",
       "2  CHECK CRD PURCHASE 11/11 NORMAN G JENSEN IN   ...                NaN   \n",
       "3  CHECK CRD PUR RTRN 11/11 TWILIO               ...                NaN   \n",
       "4  CHECK CRD PURCHASE 11/11 AT&T D11K 1111       ...                NaN   \n",
       "\n",
       "      amt db_cr_cd payment_reporting_category payment_category  \\\n",
       "0   10.35        D                       Card       Check Card   \n",
       "1   36.00        D                       Card       Debit Card   \n",
       "2   27.00        D                       Card       Check Card   \n",
       "3   20.00        C                       Card       Check Card   \n",
       "4  325.78        D                       Card       Check Card   \n",
       "\n",
       "   is_international       default_brand  default_location     qrated_brand  \\\n",
       "0             False     PACKAGE EXPRESS          LACEY WA  Package Express   \n",
       "1             False   YP *FRMLY AT&T AD   111-111-1111 CA         At And T   \n",
       "2             False  NORMAN G JENSEN IN    111-1111111 MN  Norman G Jensen   \n",
       "3             False              TWILIO  SAN FARANSICO CA           Twilio   \n",
       "4             False      AT&T D11K 1111     FORT WORTH TX         At And T   \n",
       "\n",
       "   coalesced_brand  Category  \n",
       "0  Package Express       NaN  \n",
       "1         At And T       NaN  \n",
       "2  Norman G Jensen       NaN  \n",
       "3           Twilio       NaN  \n",
       "4         At And T       NaN  "
      ]
     },
     "execution_count": 2,
     "metadata": {},
     "output_type": "execute_result"
    }
   ],
   "source": [
    "# read the dataset and shoaw shape and head\n",
    "\n",
    "\n",
    "train_trans = pd.read_excel(\"data/Training_Data.xlsx\")\n",
    "\n",
    "test_trans = pd.read_excel(\"data/Test_Data.xlsx\")\n",
    "\n",
    "\n",
    "print(f\"Training Data Head\")\n",
    "\n",
    "train_trans.shape\n",
    "train_trans.head()\n",
    "\n",
    "print(f\"\\nTesting Data Head\\n\")\n",
    "\n",
    "test_trans.shape\n",
    "test_trans.head()"
   ]
  },
  {
   "cell_type": "markdown",
   "id": "3e9294c6-5e9f-48fe-8878-9928be592ef5",
   "metadata": {},
   "source": [
    "## Exploratory Data Analysis:"
   ]
  },
  {
   "cell_type": "code",
   "execution_count": 3,
   "id": "c216d74b-bb40-4796-9bbf-771edd994dba",
   "metadata": {},
   "outputs": [
    {
     "name": "stdout",
     "output_type": "stream",
     "text": [
      "<class 'pandas.core.frame.DataFrame'>\n",
      "RangeIndex: 40000 entries, 0 to 39999\n",
      "Data columns (total 14 columns):\n",
      " #   Column                      Non-Null Count  Dtype  \n",
      "---  ------                      --------------  -----  \n",
      " 0   sor                         40000 non-null  object \n",
      " 1   cdf_seq_no                  40000 non-null  object \n",
      " 2   trans_desc                  40000 non-null  object \n",
      " 3   merchant_cat_code           24691 non-null  float64\n",
      " 4   amt                         40000 non-null  float64\n",
      " 5   db_cr_cd                    39688 non-null  object \n",
      " 6   payment_reporting_category  40000 non-null  object \n",
      " 7   payment_category            40000 non-null  object \n",
      " 8   is_international            40000 non-null  bool   \n",
      " 9   default_brand               40000 non-null  object \n",
      " 10  default_location            39994 non-null  object \n",
      " 11  qrated_brand                36673 non-null  object \n",
      " 12  coalesced_brand             40000 non-null  object \n",
      " 13  Category                    40000 non-null  object \n",
      "dtypes: bool(1), float64(2), object(11)\n",
      "memory usage: 4.0+ MB\n"
     ]
    }
   ],
   "source": [
    "# show info of the train dataset\n",
    "\n",
    "train_trans.info()"
   ]
  },
  {
   "cell_type": "code",
   "execution_count": 4,
   "id": "6fe629c1-abc9-4de9-a17b-a2f065752077",
   "metadata": {},
   "outputs": [
    {
     "data": {
      "text/html": [
       "<div>\n",
       "<style scoped>\n",
       "    .dataframe tbody tr th:only-of-type {\n",
       "        vertical-align: middle;\n",
       "    }\n",
       "\n",
       "    .dataframe tbody tr th {\n",
       "        vertical-align: top;\n",
       "    }\n",
       "\n",
       "    .dataframe thead th {\n",
       "        text-align: right;\n",
       "    }\n",
       "</style>\n",
       "<table border=\"1\" class=\"dataframe\">\n",
       "  <thead>\n",
       "    <tr style=\"text-align: right;\">\n",
       "      <th></th>\n",
       "      <th>sor</th>\n",
       "      <th>cdf_seq_no</th>\n",
       "      <th>trans_desc</th>\n",
       "      <th>db_cr_cd</th>\n",
       "      <th>payment_reporting_category</th>\n",
       "      <th>payment_category</th>\n",
       "      <th>default_brand</th>\n",
       "      <th>default_location</th>\n",
       "      <th>qrated_brand</th>\n",
       "      <th>coalesced_brand</th>\n",
       "      <th>Category</th>\n",
       "    </tr>\n",
       "  </thead>\n",
       "  <tbody>\n",
       "    <tr>\n",
       "      <th>count</th>\n",
       "      <td>40000</td>\n",
       "      <td>40000</td>\n",
       "      <td>40000</td>\n",
       "      <td>39688</td>\n",
       "      <td>40000</td>\n",
       "      <td>40000</td>\n",
       "      <td>40000</td>\n",
       "      <td>39994</td>\n",
       "      <td>36673</td>\n",
       "      <td>40000</td>\n",
       "      <td>40000</td>\n",
       "    </tr>\n",
       "    <tr>\n",
       "      <th>unique</th>\n",
       "      <td>2</td>\n",
       "      <td>40000</td>\n",
       "      <td>40000</td>\n",
       "      <td>2</td>\n",
       "      <td>1</td>\n",
       "      <td>5</td>\n",
       "      <td>39791</td>\n",
       "      <td>8201</td>\n",
       "      <td>33763</td>\n",
       "      <td>37050</td>\n",
       "      <td>10</td>\n",
       "    </tr>\n",
       "    <tr>\n",
       "      <th>top</th>\n",
       "      <td>HH</td>\n",
       "      <td>T20110701260061756</td>\n",
       "      <td>RECUR DEBIT CRD PMT11/11 DELTA DENTAL OF A11 O...</td>\n",
       "      <td>D</td>\n",
       "      <td>Card</td>\n",
       "      <td>Check Card</td>\n",
       "      <td>LIVINGSOCIAL*</td>\n",
       "      <td>111-111-1111 CA</td>\n",
       "      <td>Bp</td>\n",
       "      <td>Bp</td>\n",
       "      <td>Retail Trade</td>\n",
       "    </tr>\n",
       "    <tr>\n",
       "      <th>freq</th>\n",
       "      <td>39688</td>\n",
       "      <td>1</td>\n",
       "      <td>1</td>\n",
       "      <td>37962</td>\n",
       "      <td>40000</td>\n",
       "      <td>36986</td>\n",
       "      <td>3</td>\n",
       "      <td>860</td>\n",
       "      <td>78</td>\n",
       "      <td>78</td>\n",
       "      <td>13500</td>\n",
       "    </tr>\n",
       "  </tbody>\n",
       "</table>\n",
       "</div>"
      ],
      "text/plain": [
       "          sor          cdf_seq_no  \\\n",
       "count   40000               40000   \n",
       "unique      2               40000   \n",
       "top        HH  T20110701260061756   \n",
       "freq    39688                   1   \n",
       "\n",
       "                                               trans_desc db_cr_cd  \\\n",
       "count                                               40000    39688   \n",
       "unique                                              40000        2   \n",
       "top     RECUR DEBIT CRD PMT11/11 DELTA DENTAL OF A11 O...        D   \n",
       "freq                                                    1    37962   \n",
       "\n",
       "       payment_reporting_category payment_category  default_brand  \\\n",
       "count                       40000            40000          40000   \n",
       "unique                          1                5          39791   \n",
       "top                          Card       Check Card  LIVINGSOCIAL*   \n",
       "freq                        40000            36986              3   \n",
       "\n",
       "       default_location qrated_brand coalesced_brand      Category  \n",
       "count             39994        36673           40000         40000  \n",
       "unique             8201        33763           37050            10  \n",
       "top     111-111-1111 CA           Bp              Bp  Retail Trade  \n",
       "freq                860           78              78         13500  "
      ]
     },
     "execution_count": 4,
     "metadata": {},
     "output_type": "execute_result"
    },
    {
     "data": {
      "text/html": [
       "<div>\n",
       "<style scoped>\n",
       "    .dataframe tbody tr th:only-of-type {\n",
       "        vertical-align: middle;\n",
       "    }\n",
       "\n",
       "    .dataframe tbody tr th {\n",
       "        vertical-align: top;\n",
       "    }\n",
       "\n",
       "    .dataframe thead th {\n",
       "        text-align: right;\n",
       "    }\n",
       "</style>\n",
       "<table border=\"1\" class=\"dataframe\">\n",
       "  <thead>\n",
       "    <tr style=\"text-align: right;\">\n",
       "      <th></th>\n",
       "      <th>merchant_cat_code</th>\n",
       "      <th>amt</th>\n",
       "    </tr>\n",
       "  </thead>\n",
       "  <tbody>\n",
       "    <tr>\n",
       "      <th>count</th>\n",
       "      <td>24691.000000</td>\n",
       "      <td>40000.000000</td>\n",
       "    </tr>\n",
       "    <tr>\n",
       "      <th>mean</th>\n",
       "      <td>6263.878134</td>\n",
       "      <td>75.870519</td>\n",
       "    </tr>\n",
       "    <tr>\n",
       "      <th>std</th>\n",
       "      <td>1217.403683</td>\n",
       "      <td>254.587351</td>\n",
       "    </tr>\n",
       "    <tr>\n",
       "      <th>min</th>\n",
       "      <td>0.000000</td>\n",
       "      <td>0.010000</td>\n",
       "    </tr>\n",
       "    <tr>\n",
       "      <th>25%</th>\n",
       "      <td>5699.000000</td>\n",
       "      <td>14.007500</td>\n",
       "    </tr>\n",
       "    <tr>\n",
       "      <th>50%</th>\n",
       "      <td>5814.000000</td>\n",
       "      <td>29.990000</td>\n",
       "    </tr>\n",
       "    <tr>\n",
       "      <th>75%</th>\n",
       "      <td>7230.000000</td>\n",
       "      <td>63.650000</td>\n",
       "    </tr>\n",
       "    <tr>\n",
       "      <th>max</th>\n",
       "      <td>9405.000000</td>\n",
       "      <td>23313.800000</td>\n",
       "    </tr>\n",
       "  </tbody>\n",
       "</table>\n",
       "</div>"
      ],
      "text/plain": [
       "       merchant_cat_code           amt\n",
       "count       24691.000000  40000.000000\n",
       "mean         6263.878134     75.870519\n",
       "std          1217.403683    254.587351\n",
       "min             0.000000      0.010000\n",
       "25%          5699.000000     14.007500\n",
       "50%          5814.000000     29.990000\n",
       "75%          7230.000000     63.650000\n",
       "max          9405.000000  23313.800000"
      ]
     },
     "execution_count": 4,
     "metadata": {},
     "output_type": "execute_result"
    }
   ],
   "source": [
    "# display the descriptive stats\n",
    "\n",
    "train_trans.describe(include=['O'])\n",
    "train_trans.describe()"
   ]
  },
  {
   "cell_type": "code",
   "execution_count": 5,
   "id": "559c9cea-2b75-4b42-82ec-7135b4aafe7c",
   "metadata": {},
   "outputs": [
    {
     "data": {
      "text/plain": [
       "<AxesSubplot:>"
      ]
     },
     "execution_count": 5,
     "metadata": {},
     "output_type": "execute_result"
    },
    {
     "data": {
      "image/png": "[encoded data removed]",
      "text/plain": [
       "<Figure size 1800x720 with 3 Axes>"
      ]
     },
     "metadata": {
      "needs_background": "light"
     },
     "output_type": "display_data"
    }
   ],
   "source": [
    "#  display missing values\n",
    "\n",
    "msno.bar(train_trans, color='b')"
   ]
  },
  {
   "cell_type": "markdown",
   "id": "da0c2ab7-970c-4df9-b129-ca6d73181eeb",
   "metadata": {},
   "source": [
    "### Insights:\n",
    "\n",
    "Based on above, we see that there are few fields with null or missing values, Transaction description feature has all unique values and no missing data, all transactions have categories assigned. We are not going to handle missing values since required features have all the values."
   ]
  },
  {
   "cell_type": "code",
   "execution_count": 6,
   "id": "5913b3b6-ccad-4e6e-8ff3-a08751f13c15",
   "metadata": {},
   "outputs": [
    {
     "data": {
      "text/plain": [
       "Retail Trade                                 13500\n",
       "Entertainment                                11255\n",
       "Trade, Professional and Personal Services     5275\n",
       "Health and Community Services                 4157\n",
       "Services to Transport                         2317\n",
       "Travel                                        1489\n",
       "Property and Business Services                1095\n",
       "Education                                      445\n",
       "Communication Services                         282\n",
       "Finance                                        185\n",
       "Name: Category, dtype: int64"
      ]
     },
     "execution_count": 6,
     "metadata": {},
     "output_type": "execute_result"
    }
   ],
   "source": [
    "# display number of transactions per category\n",
    "\n",
    "train_trans['Category'].value_counts()"
   ]
  },
  {
   "cell_type": "code",
   "execution_count": 7,
   "id": "dbb1de03-8833-45e9-a397-1249368b9839",
   "metadata": {},
   "outputs": [],
   "source": [
    "#  create column to show number of words per transaction\n",
    "\n",
    "train_trans['trx_len'] = train_trans['trans_desc'].apply(lambda x: len(x))"
   ]
  },
  {
   "cell_type": "code",
   "execution_count": 8,
   "id": "03f14906-f6a6-402a-9963-85bfc0e2899f",
   "metadata": {},
   "outputs": [
    {
     "name": "stdout",
     "output_type": "stream",
     "text": [
      "Retail Trade                                 33.7500\n",
      "Entertainment                                28.1375\n",
      "Trade, Professional and Personal Services    13.1875\n",
      "Health and Community Services                10.3925\n",
      "Services to Transport                         5.7925\n",
      "Travel                                        3.7225\n",
      "Property and Business Services                2.7375\n",
      "Education                                     1.1125\n",
      "Communication Services                        0.7050\n",
      "Finance                                       0.4625\n",
      "Name: Category, dtype: float64\n"
     ]
    },
    {
     "data": {
      "image/png": "[encoded data removed]",
      "text/plain": [
       "<Figure size 1296x504 with 1 Axes>"
      ]
     },
     "metadata": {},
     "output_type": "display_data"
    }
   ],
   "source": [
    "# plot bar chart for number of transactions per category\n",
    "\n",
    "print(train_trans['Category'].value_counts(normalize=True)*100)\n",
    "\n",
    "sns.set_style('white')\n",
    "plt.figure(figsize=(18,7))\n",
    "\n",
    "sns.barplot(data=train_trans, x=train_trans['Category'].value_counts().index,y=train_trans['Category'].value_counts())\n",
    "plt.xlabel('Categories',fontdict = {\"fontsize\":14})\n",
    "plt.ylabel('Counts',fontdict = {\"fontsize\":14})\n",
    "plt.title('Number of Transactions Per Category',fontdict = {\"fontsize\":20,'color':'b'})\n",
    "plt.xticks(rotation=90);"
   ]
  },
  {
   "cell_type": "markdown",
   "id": "ccd661b3-4336-4de5-ba98-bed2b05ed853",
   "metadata": {},
   "source": [
    "## Insights:\n",
    "\n",
    "Above bar chart shows the number of transactions per categories, it shows that the target classes are not balanced. There are 6 categories having transactions count less than 10% . We need to make these classes balance before training ML algorithm."
   ]
  },
  {
   "cell_type": "code",
   "execution_count": 9,
   "id": "ed8d50f0-c4e1-4799-a294-2ff08bf71319",
   "metadata": {},
   "outputs": [
    {
     "name": "stderr",
     "output_type": "stream",
     "text": [
      "/Users/ganeshkale/work/virtual_envs/venv/lib/python3.8/site-packages/seaborn/distributions.py:2619: FutureWarning: `distplot` is a deprecated function and will be removed in a future version. Please adapt your code to use either `displot` (a figure-level function with similar flexibility) or `histplot` (an axes-level function for histograms).\n",
      "  warnings.warn(msg, FutureWarning)\n"
     ]
    },
    {
     "data": {
      "image/png": "[encoded data removed]",
      "text/plain": [
       "<Figure size 1296x504 with 1 Axes>"
      ]
     },
     "metadata": {},
     "output_type": "display_data"
    }
   ],
   "source": [
    "# display the distribution of transactions word counts\n",
    "\n",
    "sns.set_style('white')\n",
    "plt.figure(figsize=(18,7))\n",
    "\n",
    "sns.distplot(a=train_trans['trx_len'])\n",
    "plt.xlabel('Trx word Length',fontdict = {\"fontsize\":14})\n",
    "plt.ylabel('Counts',fontdict = {\"fontsize\":14})\n",
    "plt.title('Transactions word count distribution',fontdict = {\"fontsize\":20,'color':'b'});"
   ]
  },
  {
   "cell_type": "markdown",
   "id": "d0adf811-4f6e-46af-9010-f1a2431d6ad2",
   "metadata": {},
   "source": [
    "## Insights:\n",
    "\n",
    "Above histogram shows that there are transaction description word count is between 138 to 142, there are few transaction with word count 40 but count is very less.\n",
    "This shows that we have transaction description same for most of the transactions."
   ]
  },
  {
   "cell_type": "code",
   "execution_count": 10,
   "id": "66ccc772-4921-4115-8229-6ca6754535b4",
   "metadata": {},
   "outputs": [
    {
     "name": "stdout",
     "output_type": "stream",
     "text": [
      "Check Card     92.4650\n",
      "Debit Card      5.7575\n",
      "HSA Card        0.9550\n",
      "Credit Card     0.7800\n",
      "Card            0.0425\n",
      "Name: payment_category, dtype: float64\n"
     ]
    },
    {
     "data": {
      "image/png": "[encoded data removed]",
      "text/plain": [
       "<Figure size 1296x504 with 1 Axes>"
      ]
     },
     "metadata": {},
     "output_type": "display_data"
    }
   ],
   "source": [
    "# plot bar chart for payment category distribution\n",
    "\n",
    "print(train_trans['payment_category'].value_counts(normalize=True)*100)\n",
    "\n",
    "sns.set_style('white')\n",
    "plt.figure(figsize=(18,7))\n",
    "\n",
    "sns.barplot(data=train_trans, x=train_trans['payment_category'].value_counts().index,y=train_trans['payment_category'].value_counts())\n",
    "plt.xlabel('payment_category',fontdict = {\"fontsize\":14})\n",
    "plt.ylabel('Counts',fontdict = {\"fontsize\":14})\n",
    "plt.title('Payment Category Distribution',fontdict = {\"fontsize\":20,'color':'b'});"
   ]
  },
  {
   "cell_type": "markdown",
   "id": "1397eb2a-18eb-4e18-933d-49113081a1e5",
   "metadata": {},
   "source": [
    "## Insights:\n",
    "\n",
    "Above bar chart shows distribution of payment categories and most of the transactions used check card and debit card for purchases."
   ]
  },
  {
   "cell_type": "code",
   "execution_count": 11,
   "id": "839d33b3-0f3d-431f-a4e4-c0b0e29bbca8",
   "metadata": {},
   "outputs": [
    {
     "name": "stdout",
     "output_type": "stream",
     "text": [
      "False    97.1375\n",
      "True      2.8625\n",
      "Name: is_international, dtype: float64\n"
     ]
    },
    {
     "data": {
      "image/png": "[encoded data removed]",
      "text/plain": [
       "<Figure size 1296x504 with 1 Axes>"
      ]
     },
     "metadata": {},
     "output_type": "display_data"
    }
   ],
   "source": [
    "# plot bar chart for is_international\n",
    "\n",
    "print(train_trans['is_international'].value_counts(normalize=True)*100)\n",
    "\n",
    "sns.set_style('white')\n",
    "plt.figure(figsize=(18,7))\n",
    "\n",
    "sns.barplot(data=train_trans, x=train_trans['is_international'].value_counts().index,y=train_trans['is_international'].value_counts())\n",
    "plt.xlabel('is_international',fontdict = {\"fontsize\":14})\n",
    "plt.ylabel('Counts',fontdict = {\"fontsize\":14})\n",
    "plt.title('International Transaction Distribution',fontdict = {\"fontsize\":20,'color':'b'});"
   ]
  },
  {
   "cell_type": "markdown",
   "id": "ac5b0b6f-0d58-4a77-9126-92181d7f8d09",
   "metadata": {},
   "source": [
    "## Insights:\n",
    "\n",
    "Above bar chart shows that 97% of the transactions are within USA and only 3% transactions are international"
   ]
  },
  {
   "cell_type": "markdown",
   "id": "75f43415-2e7f-4405-9e88-681730ce57d2",
   "metadata": {},
   "source": [
    "### Text Preprocessing:\n",
    "\n",
    "* Convert Text in vectors -using pre-trained Glove wordembeddings\n",
    "* Split the data into Train and validation\n",
    "* Balance Classes of the Training Data "
   ]
  },
  {
   "cell_type": "code",
   "execution_count": 43,
   "id": "c541398f-94aa-48cd-bfd9-00cd7164a9a7",
   "metadata": {},
   "outputs": [],
   "source": [
    "# transform text in to vectors - training data\n",
    "\n",
    "from sklearn.feature_extraction.text import CountVectorizer\n",
    "\n",
    "cv = CountVectorizer()\n",
    "\n",
    "train_trans['coalesced_brand'] = train_trans['coalesced_brand'].astype('str')\n",
    "\n",
    "feature_vecs = cv.fit_transform(train_trans['coalesced_brand'])"
   ]
  },
  {
   "cell_type": "code",
   "execution_count": 44,
   "id": "6e8cd420-fb4f-4a1e-960f-07351d5301b4",
   "metadata": {},
   "outputs": [],
   "source": [
    "# transform text in to vectors - testing data\n",
    "\n",
    "test_trans['coalesced_brand'] = test_trans['coalesced_brand'].astype('str')\n",
    "\n",
    "test_feature_vecs = cv.transform(test_trans['coalesced_brand'])"
   ]
  },
  {
   "cell_type": "code",
   "execution_count": 45,
   "id": "e816a0fc-0276-4032-a1dd-e8ea2e463d1d",
   "metadata": {},
   "outputs": [
    {
     "data": {
      "text/plain": [
       "(40000, 25931)"
      ]
     },
     "execution_count": 45,
     "metadata": {},
     "output_type": "execute_result"
    }
   ],
   "source": [
    "feature_vecs.shape"
   ]
  },
  {
   "cell_type": "code",
   "execution_count": 46,
   "id": "64b7593d-25f8-4783-a6d3-27cd1200426f",
   "metadata": {},
   "outputs": [
    {
     "data": {
      "text/plain": [
       "(10000, 25931)"
      ]
     },
     "execution_count": 46,
     "metadata": {},
     "output_type": "execute_result"
    }
   ],
   "source": [
    "test_feature_vecs.shape"
   ]
  },
  {
   "cell_type": "code",
   "execution_count": 16,
   "id": "823d27d0-2ae1-4bb0-9e1d-7213af98cdc3",
   "metadata": {},
   "outputs": [],
   "source": [
    "# transform target variable in to number\n",
    "\n",
    "from sklearn.preprocessing import LabelEncoder\n",
    "\n",
    "le = LabelEncoder()\n",
    "\n",
    "target_codes = le.fit_transform(train_trans['Category'])"
   ]
  },
  {
   "cell_type": "code",
   "execution_count": 17,
   "id": "b845b330-284b-4b2a-9014-f071f1dd45b6",
   "metadata": {},
   "outputs": [
    {
     "name": "stdout",
     "output_type": "stream",
     "text": [
      "{'Communication Services': 0, 'Education': 1, 'Entertainment': 2, 'Finance': 3, 'Health and Community Services': 4, 'Property and Business Services': 5, 'Retail Trade': 6, 'Services to Transport': 7, 'Trade, Professional and Personal Services': 8, 'Travel': 9}\n"
     ]
    }
   ],
   "source": [
    "# display the encoded values mapping with classes\n",
    "\n",
    "class_mapping = dict(zip(le.classes_,le.transform(le.classes_)))\n",
    "print(class_mapping)"
   ]
  },
  {
   "cell_type": "markdown",
   "id": "88149e2a-e5bd-45f8-a21a-a095651c49af",
   "metadata": {},
   "source": [
    "### _Split the data set into train and validation_"
   ]
  },
  {
   "cell_type": "code",
   "execution_count": 18,
   "id": "09c7c814-37f8-4568-8497-309f700798b7",
   "metadata": {},
   "outputs": [],
   "source": [
    "from sklearn.model_selection import train_test_split\n",
    "\n",
    "X_train, X_val, y_train, y_val = train_test_split(feature_vecs, target_codes, test_size=0.3, random_state=42)"
   ]
  },
  {
   "cell_type": "code",
   "execution_count": 19,
   "id": "4646363d-a831-465b-8375-ec7bee54f0ee",
   "metadata": {},
   "outputs": [
    {
     "data": {
      "text/plain": [
       "'Training dataset shape: 28000'"
      ]
     },
     "execution_count": 19,
     "metadata": {},
     "output_type": "execute_result"
    },
    {
     "data": {
      "text/plain": [
       "'Validation dataset shape: 12000'"
      ]
     },
     "execution_count": 19,
     "metadata": {},
     "output_type": "execute_result"
    }
   ],
   "source": [
    "# display shape of train and validation data sets\n",
    "\n",
    "f\"Training dataset shape: {X_train.shape[0]}\"\n",
    "f\"Validation dataset shape: {X_val.shape[0]}\""
   ]
  },
  {
   "cell_type": "markdown",
   "id": "d8a1e4a1-010b-4b1b-a785-0f96085a192c",
   "metadata": {},
   "source": [
    "### _Balance the Categories using SMOTE:_\n",
    "\n",
    "Based on above bar chart we still have imbalnce of categories, in order balance categories, we are going to use SMOTE method\n",
    "SMOTE method will balance the classes in all categories with same as majority class."
   ]
  },
  {
   "cell_type": "code",
   "execution_count": 20,
   "id": "cda796a4-b08f-4a7b-bf3d-d2341d3054cc",
   "metadata": {},
   "outputs": [],
   "source": [
    "from imblearn.over_sampling import SMOTE\n",
    "\n",
    "smote = SMOTE()"
   ]
  },
  {
   "cell_type": "code",
   "execution_count": 21,
   "id": "d50df0a1-a704-404c-9969-9b386a4c8207",
   "metadata": {},
   "outputs": [],
   "source": [
    "# using SMOTE methode balance the classes\n",
    "\n",
    "features_smote, target_smote = smote.fit_resample(X_train,y_train)"
   ]
  },
  {
   "cell_type": "code",
   "execution_count": 22,
   "id": "136be22b-b06a-4b51-b185-7e3d77469c4c",
   "metadata": {},
   "outputs": [
    {
     "data": {
      "text/plain": [
       "((28000, 25931), (28000,))"
      ]
     },
     "execution_count": 22,
     "metadata": {},
     "output_type": "execute_result"
    },
    {
     "data": {
      "text/plain": [
       "((94950, 25931), (94950,))"
      ]
     },
     "execution_count": 22,
     "metadata": {},
     "output_type": "execute_result"
    }
   ],
   "source": [
    "# display shape of X_smote and y_smote & X, y\n",
    "\n",
    "X_train.shape, y_train.shape\n",
    "features_smote.shape, target_smote.shape"
   ]
  },
  {
   "cell_type": "code",
   "execution_count": 23,
   "id": "f1f48f94-6e15-4ba3-84c5-3b9babef78f4",
   "metadata": {},
   "outputs": [
    {
     "data": {
      "text/plain": [
       "'Category Classes before balancing: Counter({6: 9495, 2: 7833, 8: 3697, 4: 2901, 7: 1624, 9: 1043, 5: 768, 1: 315, 0: 199, 3: 125})'"
      ]
     },
     "execution_count": 23,
     "metadata": {},
     "output_type": "execute_result"
    },
    {
     "data": {
      "text/plain": [
       "'Category Classes after balancing: Counter({8: 9495, 4: 9495, 6: 9495, 2: 9495, 5: 9495, 9: 9495, 3: 9495, 7: 9495, 1: 9495, 0: 9495})'"
      ]
     },
     "execution_count": 23,
     "metadata": {},
     "output_type": "execute_result"
    }
   ],
   "source": [
    "# display y_smote distribution and cat column(y)\n",
    "\n",
    "from collections import Counter\n",
    "\n",
    "f\"Category Classes before balancing: {Counter(y_train)}\"\n",
    "f\"Category Classes after balancing: {Counter(target_smote)}\""
   ]
  },
  {
   "cell_type": "markdown",
   "id": "7042a59e-28e8-4e04-95ef-58365dbaa002",
   "metadata": {},
   "source": [
    "### Model Selection & Training:"
   ]
  },
  {
   "cell_type": "markdown",
   "id": "78e93a09-14fd-4752-be8a-a65246774029",
   "metadata": {},
   "source": [
    "### Naive Bayes Classifier"
   ]
  },
  {
   "cell_type": "code",
   "execution_count": 24,
   "id": "c3cbb2c5-59c1-4055-8811-906d0ff12f9b",
   "metadata": {},
   "outputs": [],
   "source": [
    "# import required packages to train model \n",
    "\n",
    "from sklearn.naive_bayes import MultinomialNB\n",
    "model_nb = MultinomialNB()"
   ]
  },
  {
   "cell_type": "code",
   "execution_count": 25,
   "id": "9a60d680-40eb-4d85-87b6-926867ff9b5a",
   "metadata": {},
   "outputs": [
    {
     "data": {
      "text/html": [
       "<style>#sk-container-id-1 {color: black;background-color: white;}#sk-container-id-1 pre{padding: 0;}#sk-container-id-1 div.sk-toggleable {background-color: white;}#sk-container-id-1 label.sk-toggleable__label {cursor: pointer;display: block;width: 100%;margin-bottom: 0;padding: 0.3em;box-sizing: border-box;text-align: center;}#sk-container-id-1 label.sk-toggleable__label-arrow:before {content: \"▸\";float: left;margin-right: 0.25em;color: #696969;}#sk-container-id-1 label.sk-toggleable__label-arrow:hover:before {color: black;}#sk-container-id-1 div.sk-estimator:hover label.sk-toggleable__label-arrow:before {color: black;}#sk-container-id-1 div.sk-toggleable__content {max-height: 0;max-width: 0;overflow: hidden;text-align: left;background-color: #f0f8ff;}#sk-container-id-1 div.sk-toggleable__content pre {margin: 0.2em;color: black;border-radius: 0.25em;background-color: #f0f8ff;}#sk-container-id-1 input.sk-toggleable__control:checked~div.sk-toggleable__content {max-height: 200px;max-width: 100%;overflow: auto;}#sk-container-id-1 input.sk-toggleable__control:checked~label.sk-toggleable__label-arrow:before {content: \"▾\";}#sk-container-id-1 div.sk-estimator input.sk-toggleable__control:checked~label.sk-toggleable__label {background-color: #d4ebff;}#sk-container-id-1 div.sk-label input.sk-toggleable__control:checked~label.sk-toggleable__label {background-color: #d4ebff;}#sk-container-id-1 input.sk-hidden--visually {border: 0;clip: rect(1px 1px 1px 1px);clip: rect(1px, 1px, 1px, 1px);height: 1px;margin: -1px;overflow: hidden;padding: 0;position: absolute;width: 1px;}#sk-container-id-1 div.sk-estimator {font-family: monospace;background-color: #f0f8ff;border: 1px dotted black;border-radius: 0.25em;box-sizing: border-box;margin-bottom: 0.5em;}#sk-container-id-1 div.sk-estimator:hover {background-color: #d4ebff;}#sk-container-id-1 div.sk-parallel-item::after {content: \"\";width: 100%;border-bottom: 1px solid gray;flex-grow: 1;}#sk-container-id-1 div.sk-label:hover label.sk-toggleable__label {background-color: #d4ebff;}#sk-container-id-1 div.sk-serial::before {content: \"\";position: absolute;border-left: 1px solid gray;box-sizing: border-box;top: 0;bottom: 0;left: 50%;z-index: 0;}#sk-container-id-1 div.sk-serial {display: flex;flex-direction: column;align-items: center;background-color: white;padding-right: 0.2em;padding-left: 0.2em;position: relative;}#sk-container-id-1 div.sk-item {position: relative;z-index: 1;}#sk-container-id-1 div.sk-parallel {display: flex;align-items: stretch;justify-content: center;background-color: white;position: relative;}#sk-container-id-1 div.sk-item::before, #sk-container-id-1 div.sk-parallel-item::before {content: \"\";position: absolute;border-left: 1px solid gray;box-sizing: border-box;top: 0;bottom: 0;left: 50%;z-index: -1;}#sk-container-id-1 div.sk-parallel-item {display: flex;flex-direction: column;z-index: 1;position: relative;background-color: white;}#sk-container-id-1 div.sk-parallel-item:first-child::after {align-self: flex-end;width: 50%;}#sk-container-id-1 div.sk-parallel-item:last-child::after {align-self: flex-start;width: 50%;}#sk-container-id-1 div.sk-parallel-item:only-child::after {width: 0;}#sk-container-id-1 div.sk-dashed-wrapped {border: 1px dashed gray;margin: 0 0.4em 0.5em 0.4em;box-sizing: border-box;padding-bottom: 0.4em;background-color: white;}#sk-container-id-1 div.sk-label label {font-family: monospace;font-weight: bold;display: inline-block;line-height: 1.2em;}#sk-container-id-1 div.sk-label-container {text-align: center;}#sk-container-id-1 div.sk-container {/* jupyter's `normalize.less` sets `[hidden] { display: none; }` but bootstrap.min.css set `[hidden] { display: none !important; }` so we also need the `!important` here to be able to override the default hidden behavior on the sphinx rendered scikit-learn.org. See: https://github.com/scikit-learn/scikit-learn/issues/21755 */display: inline-block !important;position: relative;}#sk-container-id-1 div.sk-text-repr-fallback {display: none;}</style><div id=\"sk-container-id-1\" class=\"sk-top-container\"><div class=\"sk-text-repr-fallback\"><pre>MultinomialNB()</pre><b>In a Jupyter environment, please rerun this cell to show the HTML representation or trust the notebook. <br />On GitHub, the HTML representation is unable to render, please try loading this page with nbviewer.org.</b></div><div class=\"sk-container\" hidden><div class=\"sk-item\"><div class=\"sk-estimator sk-toggleable\"><input class=\"sk-toggleable__control sk-hidden--visually\" id=\"sk-estimator-id-1\" type=\"checkbox\" checked><label for=\"sk-estimator-id-1\" class=\"sk-toggleable__label sk-toggleable__label-arrow\">MultinomialNB</label><div class=\"sk-toggleable__content\"><pre>MultinomialNB()</pre></div></div></div></div></div>"
      ],
      "text/plain": [
       "MultinomialNB()"
      ]
     },
     "execution_count": 25,
     "metadata": {},
     "output_type": "execute_result"
    }
   ],
   "source": [
    "# train the model using training sata set\n",
    "\n",
    "\n",
    "model_nb.fit(features_smote,target_smote)"
   ]
  },
  {
   "cell_type": "markdown",
   "id": "a9ee8be5-14ec-42d2-ba35-e14cfafe2ab2",
   "metadata": {},
   "source": [
    "### Evaluation:"
   ]
  },
  {
   "cell_type": "code",
   "execution_count": 26,
   "id": "f997990d-8d6a-43ca-8849-87720b46697a",
   "metadata": {},
   "outputs": [],
   "source": [
    "# import required packages to evaluate model building\n",
    "\n",
    "from sklearn.metrics import classification_report, confusion_matrix,accuracy_score"
   ]
  },
  {
   "cell_type": "code",
   "execution_count": 27,
   "id": "1c095148-fa4a-4452-ab7d-f76fd393ab42",
   "metadata": {},
   "outputs": [
    {
     "data": {
      "text/plain": [
       "'Accuracy of Model: 0.6638'"
      ]
     },
     "execution_count": 27,
     "metadata": {},
     "output_type": "execute_result"
    }
   ],
   "source": [
    "# predict the classes uisng trained model\n",
    "\n",
    "y_pred = model_nb.predict(X_val)\n",
    "\n",
    "f\"Accuracy of Model: {round(accuracy_score(y_val,y_pred),4)}\""
   ]
  },
  {
   "cell_type": "code",
   "execution_count": 28,
   "id": "dc3e403f-dff0-488a-b998-95ff559ef2de",
   "metadata": {},
   "outputs": [
    {
     "name": "stdout",
     "output_type": "stream",
     "text": [
      "{'Communication Services': 0, 'Education': 1, 'Entertainment': 2, 'Finance': 3, 'Health and Community Services': 4, 'Property and Business Services': 5, 'Retail Trade': 6, 'Services to Transport': 7, 'Trade, Professional and Personal Services': 8, 'Travel': 9}\n",
      "----------------------------------------------------------------------\n"
     ]
    },
    {
     "data": {
      "image/png": "[encoded data removed]",
      "text/plain": [
       "<Figure size 1296x720 with 2 Axes>"
      ]
     },
     "metadata": {},
     "output_type": "display_data"
    }
   ],
   "source": [
    "# display confusion matrics result in crosstab\n",
    "\n",
    "print(class_mapping)\n",
    "print(\"-\"*70)\n",
    "cross = pd.crosstab(y_val,y_pred,rownames=['Actual'], colnames=['Predicted'],margins=True,margins_name='Total',dropna=False)\n",
    "\n",
    "plt.figure(figsize=(18,10))\n",
    "sns.heatmap(cross,cmap='rocket_r',annot=True,fmt='2g');"
   ]
  },
  {
   "cell_type": "code",
   "execution_count": 29,
   "id": "46e4caa8-28fe-4b7f-8822-8492844e9da4",
   "metadata": {},
   "outputs": [
    {
     "name": "stdout",
     "output_type": "stream",
     "text": [
      "                                           precision    recall  f1-score   support\n",
      "\n",
      "                   Communication Services       0.20      0.40      0.26        83\n",
      "                                Education       0.24      0.48      0.32       130\n",
      "                            Entertainment       0.83      0.73      0.78      3422\n",
      "                                  Finance       0.30      0.55      0.39        60\n",
      "            Health and Community Services       0.77      0.81      0.79      1256\n",
      "           Property and Business Services       0.13      0.63      0.22       327\n",
      "                             Retail Trade       0.80      0.60      0.69      4005\n",
      "                    Services to Transport       0.62      0.73      0.67       693\n",
      "Trade, Professional and Personal Services       0.75      0.56      0.64      1578\n",
      "                                   Travel       0.51      0.67      0.58       446\n",
      "\n",
      "                                 accuracy                           0.66     12000\n",
      "                                macro avg       0.52      0.62      0.53     12000\n",
      "                             weighted avg       0.75      0.66      0.69     12000\n",
      "\n"
     ]
    }
   ],
   "source": [
    "# display the classififcation report\n",
    "\n",
    "print(classification_report(y_val, y_pred, target_names=class_mapping.keys()));"
   ]
  },
  {
   "cell_type": "markdown",
   "id": "792823c9-19b6-4ec1-9634-99c17d816d50",
   "metadata": {},
   "source": [
    "### Linear Support Vector Machine"
   ]
  },
  {
   "cell_type": "code",
   "execution_count": 30,
   "id": "ad14926d-eb8b-4f9c-b9b0-99a685a2cb45",
   "metadata": {},
   "outputs": [],
   "source": [
    "# import required packages for model building\n",
    "\n",
    "from sklearn.linear_model import SGDClassifier\n",
    "\n",
    "sgd = SGDClassifier()"
   ]
  },
  {
   "cell_type": "code",
   "execution_count": 31,
   "id": "d4c21b41-d911-43cb-b2f5-7c8a143d71b5",
   "metadata": {},
   "outputs": [
    {
     "data": {
      "text/html": [
       "<style>#sk-container-id-2 {color: black;background-color: white;}#sk-container-id-2 pre{padding: 0;}#sk-container-id-2 div.sk-toggleable {background-color: white;}#sk-container-id-2 label.sk-toggleable__label {cursor: pointer;display: block;width: 100%;margin-bottom: 0;padding: 0.3em;box-sizing: border-box;text-align: center;}#sk-container-id-2 label.sk-toggleable__label-arrow:before {content: \"▸\";float: left;margin-right: 0.25em;color: #696969;}#sk-container-id-2 label.sk-toggleable__label-arrow:hover:before {color: black;}#sk-container-id-2 div.sk-estimator:hover label.sk-toggleable__label-arrow:before {color: black;}#sk-container-id-2 div.sk-toggleable__content {max-height: 0;max-width: 0;overflow: hidden;text-align: left;background-color: #f0f8ff;}#sk-container-id-2 div.sk-toggleable__content pre {margin: 0.2em;color: black;border-radius: 0.25em;background-color: #f0f8ff;}#sk-container-id-2 input.sk-toggleable__control:checked~div.sk-toggleable__content {max-height: 200px;max-width: 100%;overflow: auto;}#sk-container-id-2 input.sk-toggleable__control:checked~label.sk-toggleable__label-arrow:before {content: \"▾\";}#sk-container-id-2 div.sk-estimator input.sk-toggleable__control:checked~label.sk-toggleable__label {background-color: #d4ebff;}#sk-container-id-2 div.sk-label input.sk-toggleable__control:checked~label.sk-toggleable__label {background-color: #d4ebff;}#sk-container-id-2 input.sk-hidden--visually {border: 0;clip: rect(1px 1px 1px 1px);clip: rect(1px, 1px, 1px, 1px);height: 1px;margin: -1px;overflow: hidden;padding: 0;position: absolute;width: 1px;}#sk-container-id-2 div.sk-estimator {font-family: monospace;background-color: #f0f8ff;border: 1px dotted black;border-radius: 0.25em;box-sizing: border-box;margin-bottom: 0.5em;}#sk-container-id-2 div.sk-estimator:hover {background-color: #d4ebff;}#sk-container-id-2 div.sk-parallel-item::after {content: \"\";width: 100%;border-bottom: 1px solid gray;flex-grow: 1;}#sk-container-id-2 div.sk-label:hover label.sk-toggleable__label {background-color: #d4ebff;}#sk-container-id-2 div.sk-serial::before {content: \"\";position: absolute;border-left: 1px solid gray;box-sizing: border-box;top: 0;bottom: 0;left: 50%;z-index: 0;}#sk-container-id-2 div.sk-serial {display: flex;flex-direction: column;align-items: center;background-color: white;padding-right: 0.2em;padding-left: 0.2em;position: relative;}#sk-container-id-2 div.sk-item {position: relative;z-index: 1;}#sk-container-id-2 div.sk-parallel {display: flex;align-items: stretch;justify-content: center;background-color: white;position: relative;}#sk-container-id-2 div.sk-item::before, #sk-container-id-2 div.sk-parallel-item::before {content: \"\";position: absolute;border-left: 1px solid gray;box-sizing: border-box;top: 0;bottom: 0;left: 50%;z-index: -1;}#sk-container-id-2 div.sk-parallel-item {display: flex;flex-direction: column;z-index: 1;position: relative;background-color: white;}#sk-container-id-2 div.sk-parallel-item:first-child::after {align-self: flex-end;width: 50%;}#sk-container-id-2 div.sk-parallel-item:last-child::after {align-self: flex-start;width: 50%;}#sk-container-id-2 div.sk-parallel-item:only-child::after {width: 0;}#sk-container-id-2 div.sk-dashed-wrapped {border: 1px dashed gray;margin: 0 0.4em 0.5em 0.4em;box-sizing: border-box;padding-bottom: 0.4em;background-color: white;}#sk-container-id-2 div.sk-label label {font-family: monospace;font-weight: bold;display: inline-block;line-height: 1.2em;}#sk-container-id-2 div.sk-label-container {text-align: center;}#sk-container-id-2 div.sk-container {/* jupyter's `normalize.less` sets `[hidden] { display: none; }` but bootstrap.min.css set `[hidden] { display: none !important; }` so we also need the `!important` here to be able to override the default hidden behavior on the sphinx rendered scikit-learn.org. See: https://github.com/scikit-learn/scikit-learn/issues/21755 */display: inline-block !important;position: relative;}#sk-container-id-2 div.sk-text-repr-fallback {display: none;}</style><div id=\"sk-container-id-2\" class=\"sk-top-container\"><div class=\"sk-text-repr-fallback\"><pre>SGDClassifier()</pre><b>In a Jupyter environment, please rerun this cell to show the HTML representation or trust the notebook. <br />On GitHub, the HTML representation is unable to render, please try loading this page with nbviewer.org.</b></div><div class=\"sk-container\" hidden><div class=\"sk-item\"><div class=\"sk-estimator sk-toggleable\"><input class=\"sk-toggleable__control sk-hidden--visually\" id=\"sk-estimator-id-2\" type=\"checkbox\" checked><label for=\"sk-estimator-id-2\" class=\"sk-toggleable__label sk-toggleable__label-arrow\">SGDClassifier</label><div class=\"sk-toggleable__content\"><pre>SGDClassifier()</pre></div></div></div></div></div>"
      ],
      "text/plain": [
       "SGDClassifier()"
      ]
     },
     "execution_count": 31,
     "metadata": {},
     "output_type": "execute_result"
    }
   ],
   "source": [
    "sgd.fit(features_smote,target_smote)"
   ]
  },
  {
   "cell_type": "code",
   "execution_count": 32,
   "id": "364609b2-c39a-4c57-932f-f8ba6ebbea76",
   "metadata": {},
   "outputs": [
    {
     "data": {
      "text/plain": [
       "'Accuracy of Model: 0.6846'"
      ]
     },
     "execution_count": 32,
     "metadata": {},
     "output_type": "execute_result"
    }
   ],
   "source": [
    "# predict the classes uisng trained model\n",
    "\n",
    "y_pred_sgd = sgd.predict(X_val)\n",
    "\n",
    "# calculate the accuracy of model\n",
    "\n",
    "f\"Accuracy of Model: {round(accuracy_score(y_val,y_pred_sgd),4)}\""
   ]
  },
  {
   "cell_type": "code",
   "execution_count": 33,
   "id": "057099fd-e348-461b-941a-31fb78f4d0b1",
   "metadata": {},
   "outputs": [
    {
     "name": "stdout",
     "output_type": "stream",
     "text": [
      "{'Communication Services': 0, 'Education': 1, 'Entertainment': 2, 'Finance': 3, 'Health and Community Services': 4, 'Property and Business Services': 5, 'Retail Trade': 6, 'Services to Transport': 7, 'Trade, Professional and Personal Services': 8, 'Travel': 9}\n",
      "----------------------------------------------------------------------\n"
     ]
    },
    {
     "data": {
      "image/png": "[encoded data removed]",
      "text/plain": [
       "<Figure size 1296x720 with 2 Axes>"
      ]
     },
     "metadata": {},
     "output_type": "display_data"
    }
   ],
   "source": [
    "# display confusion matrics result in crosstab\n",
    "\n",
    "print(class_mapping)\n",
    "print(\"-\"*70)\n",
    "cross = pd.crosstab(y_val,y_pred_sgd,rownames=['Actual'], colnames=['Predicted'],margins=True,margins_name='Total',dropna=False)\n",
    "\n",
    "plt.figure(figsize=(18,10))\n",
    "sns.heatmap(cross,cmap='rocket_r',annot=True,fmt='2g');"
   ]
  },
  {
   "cell_type": "code",
   "execution_count": 34,
   "id": "22140a2e-900d-4ee5-875e-8817630db36c",
   "metadata": {},
   "outputs": [
    {
     "name": "stdout",
     "output_type": "stream",
     "text": [
      "                                           precision    recall  f1-score   support\n",
      "\n",
      "                   Communication Services       0.33      0.39      0.36        83\n",
      "                                Education       0.33      0.48      0.39       130\n",
      "                            Entertainment       0.84      0.73      0.78      3422\n",
      "                                  Finance       0.43      0.53      0.48        60\n",
      "            Health and Community Services       0.46      0.86      0.60      1256\n",
      "           Property and Business Services       0.42      0.43      0.43       327\n",
      "                             Retail Trade       0.75      0.67      0.71      4005\n",
      "                    Services to Transport       0.64      0.72      0.68       693\n",
      "Trade, Professional and Personal Services       0.80      0.55      0.65      1578\n",
      "                                   Travel       0.56      0.66      0.61       446\n",
      "\n",
      "                                 accuracy                           0.68     12000\n",
      "                                macro avg       0.56      0.60      0.57     12000\n",
      "                             weighted avg       0.72      0.68      0.69     12000\n",
      "\n"
     ]
    }
   ],
   "source": [
    "# display the classififcation report\n",
    "\n",
    "print(classification_report(y_val, y_pred_sgd, target_names=class_mapping.keys()));"
   ]
  },
  {
   "cell_type": "markdown",
   "id": "c42dea40-34eb-49ce-9b78-c349d425293e",
   "metadata": {},
   "source": [
    "### XGBOOST Classifier"
   ]
  },
  {
   "cell_type": "code",
   "execution_count": 35,
   "id": "0297fc0d-4052-4bf4-9fc5-7df9530bc4d3",
   "metadata": {},
   "outputs": [],
   "source": [
    "#  import required packages\n",
    "\n",
    "from xgboost import XGBClassifier\n",
    "\n",
    "xgb = XGBClassifier(max_depth = 10, learning_rate=0.0001, objective = 'multi:softmax',num_classes = 10,use_label_encoder=False)"
   ]
  },
  {
   "cell_type": "code",
   "execution_count": 36,
   "id": "c63d2bcf-29d3-43c7-9cfb-ccfaad2d6153",
   "metadata": {},
   "outputs": [
    {
     "name": "stdout",
     "output_type": "stream",
     "text": [
      "[21:37:16] WARNING: /Users/runner/work/xgboost/xgboost/src/learner.cc:576: \n",
      "Parameters: { \"num_classes\" } might not be used.\n",
      "\n",
      "  This could be a false alarm, with some parameters getting used by language bindings but\n",
      "  then being mistakenly passed down to XGBoost core, or some parameter actually being used\n",
      "  but getting flagged wrongly here. Please open an issue if you find any such cases.\n",
      "\n",
      "\n",
      "[21:37:16] WARNING: /Users/runner/work/xgboost/xgboost/src/learner.cc:1115: Starting in XGBoost 1.3.0, the default evaluation metric used with the objective 'multi:softprob' was changed from 'merror' to 'mlogloss'. Explicitly set eval_metric if you'd like to restore the old behavior.\n"
     ]
    },
    {
     "data": {
      "text/html": [
       "<style>#sk-container-id-3 {color: black;background-color: white;}#sk-container-id-3 pre{padding: 0;}#sk-container-id-3 div.sk-toggleable {background-color: white;}#sk-container-id-3 label.sk-toggleable__label {cursor: pointer;display: block;width: 100%;margin-bottom: 0;padding: 0.3em;box-sizing: border-box;text-align: center;}#sk-container-id-3 label.sk-toggleable__label-arrow:before {content: \"▸\";float: left;margin-right: 0.25em;color: #696969;}#sk-container-id-3 label.sk-toggleable__label-arrow:hover:before {color: black;}#sk-container-id-3 div.sk-estimator:hover label.sk-toggleable__label-arrow:before {color: black;}#sk-container-id-3 div.sk-toggleable__content {max-height: 0;max-width: 0;overflow: hidden;text-align: left;background-color: #f0f8ff;}#sk-container-id-3 div.sk-toggleable__content pre {margin: 0.2em;color: black;border-radius: 0.25em;background-color: #f0f8ff;}#sk-container-id-3 input.sk-toggleable__control:checked~div.sk-toggleable__content {max-height: 200px;max-width: 100%;overflow: auto;}#sk-container-id-3 input.sk-toggleable__control:checked~label.sk-toggleable__label-arrow:before {content: \"▾\";}#sk-container-id-3 div.sk-estimator input.sk-toggleable__control:checked~label.sk-toggleable__label {background-color: #d4ebff;}#sk-container-id-3 div.sk-label input.sk-toggleable__control:checked~label.sk-toggleable__label {background-color: #d4ebff;}#sk-container-id-3 input.sk-hidden--visually {border: 0;clip: rect(1px 1px 1px 1px);clip: rect(1px, 1px, 1px, 1px);height: 1px;margin: -1px;overflow: hidden;padding: 0;position: absolute;width: 1px;}#sk-container-id-3 div.sk-estimator {font-family: monospace;background-color: #f0f8ff;border: 1px dotted black;border-radius: 0.25em;box-sizing: border-box;margin-bottom: 0.5em;}#sk-container-id-3 div.sk-estimator:hover {background-color: #d4ebff;}#sk-container-id-3 div.sk-parallel-item::after {content: \"\";width: 100%;border-bottom: 1px solid gray;flex-grow: 1;}#sk-container-id-3 div.sk-label:hover label.sk-toggleable__label {background-color: #d4ebff;}#sk-container-id-3 div.sk-serial::before {content: \"\";position: absolute;border-left: 1px solid gray;box-sizing: border-box;top: 0;bottom: 0;left: 50%;z-index: 0;}#sk-container-id-3 div.sk-serial {display: flex;flex-direction: column;align-items: center;background-color: white;padding-right: 0.2em;padding-left: 0.2em;position: relative;}#sk-container-id-3 div.sk-item {position: relative;z-index: 1;}#sk-container-id-3 div.sk-parallel {display: flex;align-items: stretch;justify-content: center;background-color: white;position: relative;}#sk-container-id-3 div.sk-item::before, #sk-container-id-3 div.sk-parallel-item::before {content: \"\";position: absolute;border-left: 1px solid gray;box-sizing: border-box;top: 0;bottom: 0;left: 50%;z-index: -1;}#sk-container-id-3 div.sk-parallel-item {display: flex;flex-direction: column;z-index: 1;position: relative;background-color: white;}#sk-container-id-3 div.sk-parallel-item:first-child::after {align-self: flex-end;width: 50%;}#sk-container-id-3 div.sk-parallel-item:last-child::after {align-self: flex-start;width: 50%;}#sk-container-id-3 div.sk-parallel-item:only-child::after {width: 0;}#sk-container-id-3 div.sk-dashed-wrapped {border: 1px dashed gray;margin: 0 0.4em 0.5em 0.4em;box-sizing: border-box;padding-bottom: 0.4em;background-color: white;}#sk-container-id-3 div.sk-label label {font-family: monospace;font-weight: bold;display: inline-block;line-height: 1.2em;}#sk-container-id-3 div.sk-label-container {text-align: center;}#sk-container-id-3 div.sk-container {/* jupyter's `normalize.less` sets `[hidden] { display: none; }` but bootstrap.min.css set `[hidden] { display: none !important; }` so we also need the `!important` here to be able to override the default hidden behavior on the sphinx rendered scikit-learn.org. See: https://github.com/scikit-learn/scikit-learn/issues/21755 */display: inline-block !important;position: relative;}#sk-container-id-3 div.sk-text-repr-fallback {display: none;}</style><div id=\"sk-container-id-3\" class=\"sk-top-container\"><div class=\"sk-text-repr-fallback\"><pre>XGBClassifier(base_score=0.5, booster=&#x27;gbtree&#x27;, colsample_bylevel=1,\n",
       "              colsample_bynode=1, colsample_bytree=1, enable_categorical=False,\n",
       "              gamma=0, gpu_id=-1, importance_type=None,\n",
       "              interaction_constraints=&#x27;&#x27;, learning_rate=0.0001,\n",
       "              max_delta_step=0, max_depth=10, min_child_weight=1, missing=nan,\n",
       "              monotone_constraints=&#x27;()&#x27;, n_estimators=100, n_jobs=8,\n",
       "              num_classes=10, num_parallel_tree=1, objective=&#x27;multi:softprob&#x27;,\n",
       "              predictor=&#x27;auto&#x27;, random_state=0, reg_alpha=0, reg_lambda=1,\n",
       "              scale_pos_weight=None, subsample=1, tree_method=&#x27;exact&#x27;,\n",
       "              use_label_encoder=False, validate_parameters=1, ...)</pre><b>In a Jupyter environment, please rerun this cell to show the HTML representation or trust the notebook. <br />On GitHub, the HTML representation is unable to render, please try loading this page with nbviewer.org.</b></div><div class=\"sk-container\" hidden><div class=\"sk-item\"><div class=\"sk-estimator sk-toggleable\"><input class=\"sk-toggleable__control sk-hidden--visually\" id=\"sk-estimator-id-3\" type=\"checkbox\" checked><label for=\"sk-estimator-id-3\" class=\"sk-toggleable__label sk-toggleable__label-arrow\">XGBClassifier</label><div class=\"sk-toggleable__content\"><pre>XGBClassifier(base_score=0.5, booster=&#x27;gbtree&#x27;, colsample_bylevel=1,\n",
       "              colsample_bynode=1, colsample_bytree=1, enable_categorical=False,\n",
       "              gamma=0, gpu_id=-1, importance_type=None,\n",
       "              interaction_constraints=&#x27;&#x27;, learning_rate=0.0001,\n",
       "              max_delta_step=0, max_depth=10, min_child_weight=1, missing=nan,\n",
       "              monotone_constraints=&#x27;()&#x27;, n_estimators=100, n_jobs=8,\n",
       "              num_classes=10, num_parallel_tree=1, objective=&#x27;multi:softprob&#x27;,\n",
       "              predictor=&#x27;auto&#x27;, random_state=0, reg_alpha=0, reg_lambda=1,\n",
       "              scale_pos_weight=None, subsample=1, tree_method=&#x27;exact&#x27;,\n",
       "              use_label_encoder=False, validate_parameters=1, ...)</pre></div></div></div></div></div>"
      ],
      "text/plain": [
       "XGBClassifier(base_score=0.5, booster='gbtree', colsample_bylevel=1,\n",
       "              colsample_bynode=1, colsample_bytree=1, enable_categorical=False,\n",
       "              gamma=0, gpu_id=-1, importance_type=None,\n",
       "              interaction_constraints='', learning_rate=0.0001,\n",
       "              max_delta_step=0, max_depth=10, min_child_weight=1, missing=nan,\n",
       "              monotone_constraints='()', n_estimators=100, n_jobs=8,\n",
       "              num_classes=10, num_parallel_tree=1, objective='multi:softprob',\n",
       "              predictor='auto', random_state=0, reg_alpha=0, reg_lambda=1,\n",
       "              scale_pos_weight=None, subsample=1, tree_method='exact',\n",
       "              use_label_encoder=False, validate_parameters=1, ...)"
      ]
     },
     "execution_count": 36,
     "metadata": {},
     "output_type": "execute_result"
    }
   ],
   "source": [
    "# train the model using training sata set\n",
    "\n",
    "\n",
    "xgb.fit(features_smote,target_smote)"
   ]
  },
  {
   "cell_type": "code",
   "execution_count": 37,
   "id": "0139cd4a-d149-47c4-8e2e-bf548fd0f421",
   "metadata": {},
   "outputs": [
    {
     "data": {
      "text/plain": [
       "'Accuracy of Model: 0.6846'"
      ]
     },
     "execution_count": 37,
     "metadata": {},
     "output_type": "execute_result"
    }
   ],
   "source": [
    "# predict the classes uisng trained model\n",
    "\n",
    "y_pred_xgb = sgd.predict(X_val)\n",
    "\n",
    "# calculate the accuracy of model\n",
    "\n",
    "f\"Accuracy of Model: {round(accuracy_score(y_val,y_pred_xgb),4)}\""
   ]
  },
  {
   "cell_type": "code",
   "execution_count": 38,
   "id": "1867d26b-98b2-48b7-a730-a66a7d3f3b02",
   "metadata": {},
   "outputs": [
    {
     "name": "stdout",
     "output_type": "stream",
     "text": [
      "{'Communication Services': 0, 'Education': 1, 'Entertainment': 2, 'Finance': 3, 'Health and Community Services': 4, 'Property and Business Services': 5, 'Retail Trade': 6, 'Services to Transport': 7, 'Trade, Professional and Personal Services': 8, 'Travel': 9}\n",
      "----------------------------------------------------------------------\n"
     ]
    },
    {
     "data": {
      "image/png": "[encoded data removed]",
      "text/plain": [
       "<Figure size 1296x720 with 2 Axes>"
      ]
     },
     "metadata": {},
     "output_type": "display_data"
    }
   ],
   "source": [
    "# display confusion matrics result in crosstab\n",
    "\n",
    "print(class_mapping)\n",
    "print(\"-\"*70)\n",
    "cross = pd.crosstab(y_val,y_pred_xgb,rownames=['Actual'], colnames=['Predicted'],margins=True,margins_name='Total',dropna=False)\n",
    "\n",
    "plt.figure(figsize=(18,10))\n",
    "sns.heatmap(cross,cmap='rocket_r',annot=True,fmt='2g');"
   ]
  },
  {
   "cell_type": "code",
   "execution_count": 39,
   "id": "72909da8-892b-4af2-83b3-d71c2806aa4b",
   "metadata": {},
   "outputs": [
    {
     "name": "stdout",
     "output_type": "stream",
     "text": [
      "                                           precision    recall  f1-score   support\n",
      "\n",
      "                   Communication Services       0.33      0.39      0.36        83\n",
      "                                Education       0.33      0.48      0.39       130\n",
      "                            Entertainment       0.84      0.73      0.78      3422\n",
      "                                  Finance       0.43      0.53      0.48        60\n",
      "            Health and Community Services       0.46      0.86      0.60      1256\n",
      "           Property and Business Services       0.42      0.43      0.43       327\n",
      "                             Retail Trade       0.75      0.67      0.71      4005\n",
      "                    Services to Transport       0.64      0.72      0.68       693\n",
      "Trade, Professional and Personal Services       0.80      0.55      0.65      1578\n",
      "                                   Travel       0.56      0.66      0.61       446\n",
      "\n",
      "                                 accuracy                           0.68     12000\n",
      "                                macro avg       0.56      0.60      0.57     12000\n",
      "                             weighted avg       0.72      0.68      0.69     12000\n",
      "\n"
     ]
    }
   ],
   "source": [
    "# display the classififcation report\n",
    "\n",
    "print(classification_report(y_val, y_pred_xgb, target_names=class_mapping.keys()));"
   ]
  },
  {
   "cell_type": "markdown",
   "id": "4b677f3e-1435-438d-a79b-b77337cafa98",
   "metadata": {},
   "source": [
    "### Summary of Classifiers Score"
   ]
  },
  {
   "cell_type": "code",
   "execution_count": 40,
   "id": "1faa6cb2-7c66-47b2-a4e4-ad8a0ac62028",
   "metadata": {},
   "outputs": [
    {
     "data": {
      "text/html": [
       "<div>\n",
       "<style scoped>\n",
       "    .dataframe tbody tr th:only-of-type {\n",
       "        vertical-align: middle;\n",
       "    }\n",
       "\n",
       "    .dataframe tbody tr th {\n",
       "        vertical-align: top;\n",
       "    }\n",
       "\n",
       "    .dataframe thead th {\n",
       "        text-align: right;\n",
       "    }\n",
       "</style>\n",
       "<table border=\"1\" class=\"dataframe\">\n",
       "  <thead>\n",
       "    <tr style=\"text-align: right;\">\n",
       "      <th></th>\n",
       "      <th>Acc_Score</th>\n",
       "    </tr>\n",
       "  </thead>\n",
       "  <tbody>\n",
       "    <tr>\n",
       "      <th>XGBoost</th>\n",
       "      <td>0.69</td>\n",
       "    </tr>\n",
       "    <tr>\n",
       "      <th>SVM</th>\n",
       "      <td>0.69</td>\n",
       "    </tr>\n",
       "    <tr>\n",
       "      <th>Naive Bayes</th>\n",
       "      <td>0.66</td>\n",
       "    </tr>\n",
       "  </tbody>\n",
       "</table>\n",
       "</div>"
      ],
      "text/plain": [
       "             Acc_Score\n",
       "XGBoost           0.69\n",
       "SVM               0.69\n",
       "Naive Bayes       0.66"
      ]
     },
     "execution_count": 40,
     "metadata": {},
     "output_type": "execute_result"
    }
   ],
   "source": [
    "classifiers = ['XGBoost','SVM','Naive Bayes']\n",
    "scores = [0.69,0.69,0.66]\n",
    "\n",
    "df = pd.DataFrame(scores,index=classifiers, columns=['Acc_Score'])\n",
    "df"
   ]
  },
  {
   "cell_type": "markdown",
   "id": "864c50a6-4721-4556-ab6f-b3c67d54483a",
   "metadata": {},
   "source": [
    "### Based on above summary we can baseline XGBoost as baseline model"
   ]
  },
  {
   "cell_type": "markdown",
   "id": "0ae4bc35-ad11-4564-9a04-07ed7981937d",
   "metadata": {},
   "source": [
    "### Evaluate model with Test Data"
   ]
  },
  {
   "cell_type": "code",
   "execution_count": 47,
   "id": "17b0979f-138e-4449-9c07-d5d5cc7a8ead",
   "metadata": {
    "tags": []
   },
   "outputs": [],
   "source": [
    "# test to see how model predicting categories for test data\n",
    "\n",
    "test_categories = xgb.predict(test_feature_vecs)"
   ]
  },
  {
   "cell_type": "code",
   "execution_count": 59,
   "id": "8b76b37f-2437-42c8-95d8-ab11f3ab871e",
   "metadata": {},
   "outputs": [],
   "source": [
    "#  assign categories back to labels\n",
    "\n",
    "test_cat_vals = le.inverse_transform(test_categories)"
   ]
  },
  {
   "cell_type": "code",
   "execution_count": 60,
   "id": "732a15bb-3af8-4c0c-b12b-840b4f2dc576",
   "metadata": {},
   "outputs": [
    {
     "data": {
      "text/plain": [
       "(10000, 1)"
      ]
     },
     "execution_count": 60,
     "metadata": {},
     "output_type": "execute_result"
    },
    {
     "data": {
      "text/html": [
       "<div>\n",
       "<style scoped>\n",
       "    .dataframe tbody tr th:only-of-type {\n",
       "        vertical-align: middle;\n",
       "    }\n",
       "\n",
       "    .dataframe tbody tr th {\n",
       "        vertical-align: top;\n",
       "    }\n",
       "\n",
       "    .dataframe thead th {\n",
       "        text-align: right;\n",
       "    }\n",
       "</style>\n",
       "<table border=\"1\" class=\"dataframe\">\n",
       "  <thead>\n",
       "    <tr style=\"text-align: right;\">\n",
       "      <th></th>\n",
       "      <th>Category</th>\n",
       "    </tr>\n",
       "  </thead>\n",
       "  <tbody>\n",
       "    <tr>\n",
       "      <th>0</th>\n",
       "      <td>Retail Trade</td>\n",
       "    </tr>\n",
       "    <tr>\n",
       "      <th>1</th>\n",
       "      <td>Communication Services</td>\n",
       "    </tr>\n",
       "    <tr>\n",
       "      <th>2</th>\n",
       "      <td>Retail Trade</td>\n",
       "    </tr>\n",
       "    <tr>\n",
       "      <th>3</th>\n",
       "      <td>Retail Trade</td>\n",
       "    </tr>\n",
       "    <tr>\n",
       "      <th>4</th>\n",
       "      <td>Communication Services</td>\n",
       "    </tr>\n",
       "  </tbody>\n",
       "</table>\n",
       "</div>"
      ],
      "text/plain": [
       "                 Category\n",
       "0            Retail Trade\n",
       "1  Communication Services\n",
       "2            Retail Trade\n",
       "3            Retail Trade\n",
       "4  Communication Services"
      ]
     },
     "execution_count": 60,
     "metadata": {},
     "output_type": "execute_result"
    }
   ],
   "source": [
    "# test data category result\n",
    "\n",
    "test_categ = pd.DataFrame(test_cat_vals.reshape(-1,1), columns=['Category'])\n",
    "test_categ.shape\n",
    "test_categ.head()"
   ]
  },
  {
   "cell_type": "code",
   "execution_count": 73,
   "id": "1a3676c9-4c35-4937-86f8-0fe8352d7996",
   "metadata": {},
   "outputs": [
    {
     "data": {
      "text/plain": [
       "(10000, 14)"
      ]
     },
     "execution_count": 73,
     "metadata": {},
     "output_type": "execute_result"
    },
    {
     "data": {
      "text/html": [
       "<div>\n",
       "<style scoped>\n",
       "    .dataframe tbody tr th:only-of-type {\n",
       "        vertical-align: middle;\n",
       "    }\n",
       "\n",
       "    .dataframe tbody tr th {\n",
       "        vertical-align: top;\n",
       "    }\n",
       "\n",
       "    .dataframe thead th {\n",
       "        text-align: right;\n",
       "    }\n",
       "</style>\n",
       "<table border=\"1\" class=\"dataframe\">\n",
       "  <thead>\n",
       "    <tr style=\"text-align: right;\">\n",
       "      <th></th>\n",
       "      <th>sor</th>\n",
       "      <th>cdf_seq_no</th>\n",
       "      <th>trans_desc</th>\n",
       "      <th>merchant_cat_code</th>\n",
       "      <th>amt</th>\n",
       "      <th>db_cr_cd</th>\n",
       "      <th>payment_reporting_category</th>\n",
       "      <th>payment_category</th>\n",
       "      <th>is_international</th>\n",
       "      <th>default_brand</th>\n",
       "      <th>default_location</th>\n",
       "      <th>qrated_brand</th>\n",
       "      <th>coalesced_brand</th>\n",
       "      <th>Category</th>\n",
       "    </tr>\n",
       "  </thead>\n",
       "  <tbody>\n",
       "    <tr>\n",
       "      <th>0</th>\n",
       "      <td>HH</td>\n",
       "      <td>T20131230990668080055738</td>\n",
       "      <td>CHECK CRD PURCHASE 11/11 PACKAGE EXPRESS      ...</td>\n",
       "      <td>NaN</td>\n",
       "      <td>10.35</td>\n",
       "      <td>D</td>\n",
       "      <td>Card</td>\n",
       "      <td>Check Card</td>\n",
       "      <td>False</td>\n",
       "      <td>PACKAGE EXPRESS</td>\n",
       "      <td>LACEY WA</td>\n",
       "      <td>Package Express</td>\n",
       "      <td>Package Express</td>\n",
       "      <td>Retail Trade</td>\n",
       "    </tr>\n",
       "    <tr>\n",
       "      <th>1</th>\n",
       "      <td>HH</td>\n",
       "      <td>T201302289918775816</td>\n",
       "      <td>RECUR DEBIT CRD PMT11/11 YP *FRMLY AT&amp;T AD    ...</td>\n",
       "      <td>NaN</td>\n",
       "      <td>36.00</td>\n",
       "      <td>D</td>\n",
       "      <td>Card</td>\n",
       "      <td>Debit Card</td>\n",
       "      <td>False</td>\n",
       "      <td>YP *FRMLY AT&amp;T AD</td>\n",
       "      <td>111-111-1111 CA</td>\n",
       "      <td>At And T</td>\n",
       "      <td>At And T</td>\n",
       "      <td>Communication Services</td>\n",
       "    </tr>\n",
       "    <tr>\n",
       "      <th>2</th>\n",
       "      <td>HH</td>\n",
       "      <td>T20130726991361190218055</td>\n",
       "      <td>CHECK CRD PURCHASE 11/11 NORMAN G JENSEN IN   ...</td>\n",
       "      <td>NaN</td>\n",
       "      <td>27.00</td>\n",
       "      <td>D</td>\n",
       "      <td>Card</td>\n",
       "      <td>Check Card</td>\n",
       "      <td>False</td>\n",
       "      <td>NORMAN G JENSEN IN</td>\n",
       "      <td>111-1111111 MN</td>\n",
       "      <td>Norman G Jensen</td>\n",
       "      <td>Norman G Jensen</td>\n",
       "      <td>Retail Trade</td>\n",
       "    </tr>\n",
       "    <tr>\n",
       "      <th>3</th>\n",
       "      <td>HH</td>\n",
       "      <td>T201208319924922772</td>\n",
       "      <td>CHECK CRD PUR RTRN 11/11 TWILIO               ...</td>\n",
       "      <td>NaN</td>\n",
       "      <td>20.00</td>\n",
       "      <td>C</td>\n",
       "      <td>Card</td>\n",
       "      <td>Check Card</td>\n",
       "      <td>False</td>\n",
       "      <td>TWILIO</td>\n",
       "      <td>SAN FARANSICO CA</td>\n",
       "      <td>Twilio</td>\n",
       "      <td>Twilio</td>\n",
       "      <td>Retail Trade</td>\n",
       "    </tr>\n",
       "    <tr>\n",
       "      <th>4</th>\n",
       "      <td>HH</td>\n",
       "      <td>T20131230990638080027066</td>\n",
       "      <td>CHECK CRD PURCHASE 11/11 AT&amp;T D11K 1111       ...</td>\n",
       "      <td>NaN</td>\n",
       "      <td>325.78</td>\n",
       "      <td>D</td>\n",
       "      <td>Card</td>\n",
       "      <td>Check Card</td>\n",
       "      <td>False</td>\n",
       "      <td>AT&amp;T D11K 1111</td>\n",
       "      <td>FORT WORTH TX</td>\n",
       "      <td>At And T</td>\n",
       "      <td>At And T</td>\n",
       "      <td>Communication Services</td>\n",
       "    </tr>\n",
       "  </tbody>\n",
       "</table>\n",
       "</div>"
      ],
      "text/plain": [
       "  sor                cdf_seq_no  \\\n",
       "0  HH  T20131230990668080055738   \n",
       "1  HH       T201302289918775816   \n",
       "2  HH  T20130726991361190218055   \n",
       "3  HH       T201208319924922772   \n",
       "4  HH  T20131230990638080027066   \n",
       "\n",
       "                                          trans_desc  merchant_cat_code  \\\n",
       "0  CHECK CRD PURCHASE 11/11 PACKAGE EXPRESS      ...                NaN   \n",
       "1  RECUR DEBIT CRD PMT11/11 YP *FRMLY AT&T AD    ...                NaN   \n",
       "2  CHECK CRD PURCHASE 11/11 NORMAN G JENSEN IN   ...                NaN   \n",
       "3  CHECK CRD PUR RTRN 11/11 TWILIO               ...                NaN   \n",
       "4  CHECK CRD PURCHASE 11/11 AT&T D11K 1111       ...                NaN   \n",
       "\n",
       "      amt db_cr_cd payment_reporting_category payment_category  \\\n",
       "0   10.35        D                       Card       Check Card   \n",
       "1   36.00        D                       Card       Debit Card   \n",
       "2   27.00        D                       Card       Check Card   \n",
       "3   20.00        C                       Card       Check Card   \n",
       "4  325.78        D                       Card       Check Card   \n",
       "\n",
       "   is_international       default_brand  default_location     qrated_brand  \\\n",
       "0             False     PACKAGE EXPRESS          LACEY WA  Package Express   \n",
       "1             False   YP *FRMLY AT&T AD   111-111-1111 CA         At And T   \n",
       "2             False  NORMAN G JENSEN IN    111-1111111 MN  Norman G Jensen   \n",
       "3             False              TWILIO  SAN FARANSICO CA           Twilio   \n",
       "4             False      AT&T D11K 1111     FORT WORTH TX         At And T   \n",
       "\n",
       "   coalesced_brand                Category  \n",
       "0  Package Express            Retail Trade  \n",
       "1         At And T  Communication Services  \n",
       "2  Norman G Jensen            Retail Trade  \n",
       "3           Twilio            Retail Trade  \n",
       "4         At And T  Communication Services  "
      ]
     },
     "execution_count": 73,
     "metadata": {},
     "output_type": "execute_result"
    }
   ],
   "source": [
    "#  merge category column to test data\n",
    "\n",
    "result_df = pd.concat([test_trans,test_categ],axis=1)\n",
    "result_df.shape\n",
    "result_df.head()"
   ]
  },
  {
   "cell_type": "code",
   "execution_count": 75,
   "id": "ce71f170-3398-469f-a53a-4aac3513f3b3",
   "metadata": {},
   "outputs": [
    {
     "data": {
      "text/html": [
       "<div>\n",
       "<style scoped>\n",
       "    .dataframe tbody tr th:only-of-type {\n",
       "        vertical-align: middle;\n",
       "    }\n",
       "\n",
       "    .dataframe tbody tr th {\n",
       "        vertical-align: top;\n",
       "    }\n",
       "\n",
       "    .dataframe thead th {\n",
       "        text-align: right;\n",
       "    }\n",
       "</style>\n",
       "<table border=\"1\" class=\"dataframe\">\n",
       "  <thead>\n",
       "    <tr style=\"text-align: right;\">\n",
       "      <th></th>\n",
       "      <th>coalesced_brand</th>\n",
       "      <th>Category</th>\n",
       "    </tr>\n",
       "  </thead>\n",
       "  <tbody>\n",
       "    <tr>\n",
       "      <th>0</th>\n",
       "      <td>Package Express</td>\n",
       "      <td>Retail Trade</td>\n",
       "    </tr>\n",
       "    <tr>\n",
       "      <th>1</th>\n",
       "      <td>At And T</td>\n",
       "      <td>Communication Services</td>\n",
       "    </tr>\n",
       "    <tr>\n",
       "      <th>2</th>\n",
       "      <td>Norman G Jensen</td>\n",
       "      <td>Retail Trade</td>\n",
       "    </tr>\n",
       "    <tr>\n",
       "      <th>3</th>\n",
       "      <td>Twilio</td>\n",
       "      <td>Retail Trade</td>\n",
       "    </tr>\n",
       "    <tr>\n",
       "      <th>4</th>\n",
       "      <td>At And T</td>\n",
       "      <td>Communication Services</td>\n",
       "    </tr>\n",
       "    <tr>\n",
       "      <th>...</th>\n",
       "      <td>...</td>\n",
       "      <td>...</td>\n",
       "    </tr>\n",
       "    <tr>\n",
       "      <th>9995</th>\n",
       "      <td>Volcano Village Lodge</td>\n",
       "      <td>Retail Trade</td>\n",
       "    </tr>\n",
       "    <tr>\n",
       "      <th>9996</th>\n",
       "      <td>La Quinta By Wyndham Springfield Il</td>\n",
       "      <td>Retail Trade</td>\n",
       "    </tr>\n",
       "    <tr>\n",
       "      <th>9997</th>\n",
       "      <td>Green Valley Ranch Resort Spa And Casino</td>\n",
       "      <td>Travel</td>\n",
       "    </tr>\n",
       "    <tr>\n",
       "      <th>9998</th>\n",
       "      <td>City Of Ontario</td>\n",
       "      <td>Retail Trade</td>\n",
       "    </tr>\n",
       "    <tr>\n",
       "      <th>9999</th>\n",
       "      <td>M &amp; B SEDAN</td>\n",
       "      <td>Retail Trade</td>\n",
       "    </tr>\n",
       "  </tbody>\n",
       "</table>\n",
       "<p>10000 rows × 2 columns</p>\n",
       "</div>"
      ],
      "text/plain": [
       "                               coalesced_brand                Category\n",
       "0                              Package Express            Retail Trade\n",
       "1                                     At And T  Communication Services\n",
       "2                              Norman G Jensen            Retail Trade\n",
       "3                                       Twilio            Retail Trade\n",
       "4                                     At And T  Communication Services\n",
       "...                                        ...                     ...\n",
       "9995                     Volcano Village Lodge            Retail Trade\n",
       "9996       La Quinta By Wyndham Springfield Il            Retail Trade\n",
       "9997  Green Valley Ranch Resort Spa And Casino                  Travel\n",
       "9998                           City Of Ontario            Retail Trade\n",
       "9999                               M & B SEDAN            Retail Trade\n",
       "\n",
       "[10000 rows x 2 columns]"
      ]
     },
     "execution_count": 75,
     "metadata": {},
     "output_type": "execute_result"
    }
   ],
   "source": [
    "# compared categories to transaction description\n",
    "\n",
    "result_df[['coalesced_brand','Category']]"
   ]
  },
  {
   "cell_type": "markdown",
   "id": "1b43faec-0699-45df-ad7b-50f56188b6d8",
   "metadata": {},
   "source": [
    "Above dataframe shows the test transactions and predicted categories by the baselines model."
   ]
  },
  {
   "cell_type": "markdown",
   "id": "5c670bea-2bd3-42f8-acdc-df9217c401dd",
   "metadata": {},
   "source": [
    "# END"
   ]
  }
 ],
 "metadata": {
  "kernelspec": {
   "display_name": "Python 3 (ipykernel)",
   "language": "python",
   "name": "python3"
  },
  "language_info": {
   "codemirror_mode": {
    "name": "ipython",
    "version": 3
   },
   "file_extension": ".py",
   "mimetype": "text/x-python",
   "name": "python",
   "nbconvert_exporter": "python",
   "pygments_lexer": "ipython3",
   "version": "3.8.2"
  }
 },
 "nbformat": 4,
 "nbformat_minor": 5
}
