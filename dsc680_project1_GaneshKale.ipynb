{
 "cells": [
  {
   "cell_type": "markdown",
   "metadata": {
    "id": "z1bWfPaKV0F-"
   },
   "source": [
    "# Title:    Next Word Prediction-Language Model\n",
    "\n",
    "## Business Understanding:-\n",
    "\n",
    "### Introduction:\n",
    "\n",
    "Language modeling involves predicting the next word in a sequence given the sequence of words already present. A language model is a key element in many natural language processing models such resolving customers inquiries through chat or answering the questions through emails.\n",
    "\n",
    "In customer Service business especially in messaging or Chats or email supports, customer representative often struggle to response fast if they have limited knowledge of business area wherein the inquiry is about and need to respond fast for better service and improved customer satisfaction\n",
    "\n",
    "### Business Problem:\n",
    "\n",
    "Business Stakeholder wanted to build model that would learn from previously provided chat or email resolution history and suggest the next word when representative start providing resolution to the customers inquiry.\n",
    "\n",
    "•\tBuild the model that would predict the next word based on previous context.\n",
    "\n",
    "\n",
    "#### Techniques:\n",
    "\n",
    "The model would be built using Recurrent neural networks (RNN) and TensorFlow and Keras.\n",
    "\n",
    "\n",
    "### Data Definitions:\n",
    "\n",
    "Columns:\n",
    "\n",
    "* Dataset ID: Dataset that the request originated from.\n",
    "* Group ID: The group of 4 annotators that the selections originated from.\n",
    "* Request ID: Unique ID of a request to allow joining between different files.\n",
    "* Threshold: The threshold (i) to merge selections by.\n",
    "* MergedSelections: If at least i annotators marked a character as unnecessary then it will be contained within the selected portion denoted by [ and ].\n",
    "* Unselected: All text from MergedSelections not contained by [ and ].\n",
    "* Selected: All text from MergedSelections contained by [ and ].\n",
    "* Greeting: If a greeting of some kind (Hi, How are you) is present in Selected\n",
    "* Backstory: If self-exposure language is present in Selected. The user is telling the audience about themselves, their situation, what led them to contact the agent or ask their question.\n",
    "* Justification: If justification language is present in Selected. The user is giving facts to build credibility that their request or statement is true. Also can be why they need resolution or a consequence if something is not resolved.\n",
    "* Rant: If ranting is present in Selected. Excessive complaining or negative narrative.\n",
    "* Gratitude: If some expression of gratitude to the audience for past or future help is present in Selected.\n",
    "* Other: If some or all of the highlighted section does not contain any relational language in Selected. Could be additional facts the user gave but annotators determined was unnecessary to determine their intention, or a general question such as Can you help?.\n",
    "* Express Emotion: If any emotional language not covered by Rant is present in Selected\n",
    "\n"
   ]
  },
  {
   "cell_type": "markdown",
   "metadata": {
    "id": "3coTYoU4WB5D"
   },
   "source": [
    "## Data Understanding:"
   ]
  },
  {
   "cell_type": "code",
   "execution_count": 2,
   "metadata": {
    "id": "beKZfF3_WCzi"
   },
   "outputs": [],
   "source": [
    "# import required libraries\n",
    "\n",
    "import numpy as np\n",
    "import pandas as pd\n",
    "import seaborn as sns\n",
    "import heapq\n",
    "import re\n",
    "import nltk\n",
    "import matplotlib.pyplot as plt\n",
    "from nltk.tokenize import word_tokenize,RegexpTokenizer\n",
    "from keras.models import Sequential, load_model\n",
    "from keras.layers.core import Dense, Activation\n",
    "from keras.layers import LSTM\n",
    "import pickle\n",
    "from tensorflow.keras.optimizers import RMSprop\n",
    "from tensorflow.keras.preprocessing.text import Tokenizer\n",
    "import tensorflow as tf\n",
    "import keras\n",
    "from keras import layers\n",
    "from keras.models import Sequential\n",
    "import random\n",
    "import sys\n",
    "\n",
    "from IPython.core.interactiveshell import InteractiveShell\n",
    "InteractiveShell.ast_node_interactivity = 'all'"
   ]
  },
  {
   "cell_type": "code",
   "execution_count": 6,
   "metadata": {
    "colab": {
     "base_uri": "https://localhost:8080/",
     "height": 243
    },
    "id": "zy8Vr_rXWFoK",
    "outputId": "474f575d-2ee8-4368-a98b-162bdd85e4f8"
   },
   "outputs": [
    {
     "data": {
      "text/plain": [
       "(6759, 14)"
      ]
     },
     "execution_count": 6,
     "metadata": {},
     "output_type": "execute_result"
    },
    {
     "data": {
      "text/html": [
       "\n",
       "  <div id=\"df-b7956663-d2e9-4594-ac13-a3a5f07cf96d\">\n",
       "    <div class=\"colab-df-container\">\n",
       "      <div>\n",
       "<style scoped>\n",
       "    .dataframe tbody tr th:only-of-type {\n",
       "        vertical-align: middle;\n",
       "    }\n",
       "\n",
       "    .dataframe tbody tr th {\n",
       "        vertical-align: top;\n",
       "    }\n",
       "\n",
       "    .dataframe thead th {\n",
       "        text-align: right;\n",
       "    }\n",
       "</style>\n",
       "<table border=\"1\" class=\"dataframe\">\n",
       "  <thead>\n",
       "    <tr style=\"text-align: right;\">\n",
       "      <th></th>\n",
       "      <th>Dataset</th>\n",
       "      <th>Partition</th>\n",
       "      <th>SentenceID</th>\n",
       "      <th>Threshold</th>\n",
       "      <th>MergedSelections</th>\n",
       "      <th>Unselected</th>\n",
       "      <th>Selected</th>\n",
       "      <th>Greeting</th>\n",
       "      <th>Backstory</th>\n",
       "      <th>Justification</th>\n",
       "      <th>Rant</th>\n",
       "      <th>Gratitude</th>\n",
       "      <th>Other</th>\n",
       "      <th>Express Emotion</th>\n",
       "    </tr>\n",
       "  </thead>\n",
       "  <tbody>\n",
       "    <tr>\n",
       "      <th>0</th>\n",
       "      <td>1</td>\n",
       "      <td>1</td>\n",
       "      <td>2227</td>\n",
       "      <td>2</td>\n",
       "      <td>[Just to set the scene... I have a fairly tall...</td>\n",
       "      <td>if we check in online, will this mean we auto...</td>\n",
       "      <td>Just to set the scene... I have a fairly tall ...</td>\n",
       "      <td>0</td>\n",
       "      <td>1</td>\n",
       "      <td>0</td>\n",
       "      <td>0</td>\n",
       "      <td>0</td>\n",
       "      <td>1</td>\n",
       "      <td>0</td>\n",
       "    </tr>\n",
       "    <tr>\n",
       "      <th>1</th>\n",
       "      <td>1</td>\n",
       "      <td>1</td>\n",
       "      <td>2182</td>\n",
       "      <td>2</td>\n",
       "      <td>I am flying from Luton to Dalaman (Turkey) nex...</td>\n",
       "      <td>I am flying from Luton to Dalaman (Turkey) nex...</td>\n",
       "      <td>We already have allocated seats, so as far as ...</td>\n",
       "      <td>0</td>\n",
       "      <td>1</td>\n",
       "      <td>0</td>\n",
       "      <td>0</td>\n",
       "      <td>0</td>\n",
       "      <td>1</td>\n",
       "      <td>0</td>\n",
       "    </tr>\n",
       "  </tbody>\n",
       "</table>\n",
       "</div>\n",
       "      <button class=\"colab-df-convert\" onclick=\"convertToInteractive('df-b7956663-d2e9-4594-ac13-a3a5f07cf96d')\"\n",
       "              title=\"Convert this dataframe to an interactive table.\"\n",
       "              style=\"display:none;\">\n",
       "        \n",
       "  <svg xmlns=\"http://www.w3.org/2000/svg\" height=\"24px\"viewBox=\"0 0 24 24\"\n",
       "       width=\"24px\">\n",
       "    <path d=\"M0 0h24v24H0V0z\" fill=\"none\"/>\n",
       "    <path d=\"M18.56 5.44l.94 2.06.94-2.06 2.06-.94-2.06-.94-.94-2.06-.94 2.06-2.06.94zm-11 1L8.5 8.5l.94-2.06 2.06-.94-2.06-.94L8.5 2.5l-.94 2.06-2.06.94zm10 10l.94 2.06.94-2.06 2.06-.94-2.06-.94-.94-2.06-.94 2.06-2.06.94z\"/><path d=\"M17.41 7.96l-1.37-1.37c-.4-.4-.92-.59-1.43-.59-.52 0-1.04.2-1.43.59L10.3 9.45l-7.72 7.72c-.78.78-.78 2.05 0 2.83L4 21.41c.39.39.9.59 1.41.59.51 0 1.02-.2 1.41-.59l7.78-7.78 2.81-2.81c.8-.78.8-2.07 0-2.86zM5.41 20L4 18.59l7.72-7.72 1.47 1.35L5.41 20z\"/>\n",
       "  </svg>\n",
       "      </button>\n",
       "      \n",
       "  <style>\n",
       "    .colab-df-container {\n",
       "      display:flex;\n",
       "      flex-wrap:wrap;\n",
       "      gap: 12px;\n",
       "    }\n",
       "\n",
       "    .colab-df-convert {\n",
       "      background-color: #E8F0FE;\n",
       "      border: none;\n",
       "      border-radius: 50%;\n",
       "      cursor: pointer;\n",
       "      display: none;\n",
       "      fill: #1967D2;\n",
       "      height: 32px;\n",
       "      padding: 0 0 0 0;\n",
       "      width: 32px;\n",
       "    }\n",
       "\n",
       "    .colab-df-convert:hover {\n",
       "      background-color: #E2EBFA;\n",
       "      box-shadow: 0px 1px 2px rgba(60, 64, 67, 0.3), 0px 1px 3px 1px rgba(60, 64, 67, 0.15);\n",
       "      fill: #174EA6;\n",
       "    }\n",
       "\n",
       "    [theme=dark] .colab-df-convert {\n",
       "      background-color: #3B4455;\n",
       "      fill: #D2E3FC;\n",
       "    }\n",
       "\n",
       "    [theme=dark] .colab-df-convert:hover {\n",
       "      background-color: #434B5C;\n",
       "      box-shadow: 0px 1px 3px 1px rgba(0, 0, 0, 0.15);\n",
       "      filter: drop-shadow(0px 1px 2px rgba(0, 0, 0, 0.3));\n",
       "      fill: #FFFFFF;\n",
       "    }\n",
       "  </style>\n",
       "\n",
       "      <script>\n",
       "        const buttonEl =\n",
       "          document.querySelector('#df-b7956663-d2e9-4594-ac13-a3a5f07cf96d button.colab-df-convert');\n",
       "        buttonEl.style.display =\n",
       "          google.colab.kernel.accessAllowed ? 'block' : 'none';\n",
       "\n",
       "        async function convertToInteractive(key) {\n",
       "          const element = document.querySelector('#df-b7956663-d2e9-4594-ac13-a3a5f07cf96d');\n",
       "          const dataTable =\n",
       "            await google.colab.kernel.invokeFunction('convertToInteractive',\n",
       "                                                     [key], {});\n",
       "          if (!dataTable) return;\n",
       "\n",
       "          const docLinkHtml = 'Like what you see? Visit the ' +\n",
       "            '<a target=\"_blank\" href=https://colab.research.google.com/notebooks/data_table.ipynb>data table notebook</a>'\n",
       "            + ' to learn more about interactive tables.';\n",
       "          element.innerHTML = '';\n",
       "          dataTable['output_type'] = 'display_data';\n",
       "          await google.colab.output.renderOutput(dataTable, element);\n",
       "          const docLink = document.createElement('div');\n",
       "          docLink.innerHTML = docLinkHtml;\n",
       "          element.appendChild(docLink);\n",
       "        }\n",
       "      </script>\n",
       "    </div>\n",
       "  </div>\n",
       "  "
      ],
      "text/plain": [
       "   Dataset  Partition  SentenceID  Threshold  \\\n",
       "0        1          1        2227          2   \n",
       "1        1          1        2182          2   \n",
       "\n",
       "                                    MergedSelections  \\\n",
       "0  [Just to set the scene... I have a fairly tall...   \n",
       "1  I am flying from Luton to Dalaman (Turkey) nex...   \n",
       "\n",
       "                                          Unselected  \\\n",
       "0   if we check in online, will this mean we auto...   \n",
       "1  I am flying from Luton to Dalaman (Turkey) nex...   \n",
       "\n",
       "                                            Selected  Greeting  Backstory  \\\n",
       "0  Just to set the scene... I have a fairly tall ...         0          1   \n",
       "1  We already have allocated seats, so as far as ...         0          1   \n",
       "\n",
       "   Justification  Rant  Gratitude  Other  Express Emotion  \n",
       "0              0     0          0      1                0  \n",
       "1              0     0          0      1                0  "
      ]
     },
     "execution_count": 6,
     "metadata": {},
     "output_type": "execute_result"
    }
   ],
   "source": [
    "# read the dataset and shoaw shape and head\n",
    "\n",
    "# taking small dataset so it would not take time for training\n",
    "\n",
    "corpus = pd.read_csv('sample_data/tagged_selections_by_sentence.csv')\n",
    "\n",
    "corpus.shape\n",
    "corpus.head(2)"
   ]
  },
  {
   "cell_type": "code",
   "execution_count": 7,
   "metadata": {
    "colab": {
     "base_uri": "https://localhost:8080/"
    },
    "id": "jOE0Nb40WnLe",
    "outputId": "dc5fa2ab-83a0-4b15-a629-accc6ad56553"
   },
   "outputs": [
    {
     "name": "stdout",
     "output_type": "stream",
     "text": [
      "<class 'pandas.core.frame.DataFrame'>\n",
      "RangeIndex: 6759 entries, 0 to 6758\n",
      "Data columns (total 14 columns):\n",
      " #   Column            Non-Null Count  Dtype \n",
      "---  ------            --------------  ----- \n",
      " 0   Dataset           6759 non-null   int64 \n",
      " 1   Partition         6759 non-null   int64 \n",
      " 2   SentenceID        6759 non-null   int64 \n",
      " 3   Threshold         6759 non-null   int64 \n",
      " 4   MergedSelections  6759 non-null   object\n",
      " 5   Unselected        6725 non-null   object\n",
      " 6   Selected          3790 non-null   object\n",
      " 7   Greeting          6759 non-null   int64 \n",
      " 8   Backstory         6759 non-null   int64 \n",
      " 9   Justification     6759 non-null   int64 \n",
      " 10  Rant              6759 non-null   int64 \n",
      " 11  Gratitude         6759 non-null   int64 \n",
      " 12  Other             6759 non-null   int64 \n",
      " 13  Express Emotion   6759 non-null   int64 \n",
      "dtypes: int64(11), object(3)\n",
      "memory usage: 739.4+ KB\n"
     ]
    }
   ],
   "source": [
    "# information of data\n",
    "\n",
    "corpus.info()"
   ]
  },
  {
   "cell_type": "markdown",
   "metadata": {
    "id": "5nH5NypwWq7P"
   },
   "source": [
    "### Exploratory Data Analysis:"
   ]
  },
  {
   "cell_type": "code",
   "execution_count": 8,
   "metadata": {
    "id": "qiRNNp1eWsD-"
   },
   "outputs": [],
   "source": [
    "# create new column\n",
    "\n",
    "def joint_texts(str1, str2):\n",
    "    \n",
    "    if str1 is np.nan:\n",
    "        \n",
    "        str1 = ''\n",
    "        \n",
    "        return str2\n",
    "\n",
    "    elif str2 is np.nan:\n",
    "        \n",
    "        str2 = ''\n",
    "        \n",
    "        return str1\n",
    "        \n",
    "    return str1 + ' '+ str2\n",
    "\n",
    "\n",
    "#  clean text \n",
    "\n",
    "def clean_text(x):\n",
    "    \n",
    "    x = ' '.join([w.strip() for w in x.split()])\n",
    "    \n",
    "    return re.sub(r'[^\\w]',' ',x)\n",
    "\n",
    "\n",
    "corpus['text_resp'] = corpus.apply(lambda x: joint_texts(x.Unselected,x.Selected),axis=1)\n",
    "\n",
    "corpus['text_resp'] = corpus['text_resp'].apply(lambda x: clean_text(x))"
   ]
  },
  {
   "cell_type": "code",
   "execution_count": 9,
   "metadata": {
    "id": "Zw5AyqD5Wwhx"
   },
   "outputs": [],
   "source": [
    "# create new column words list from text_resp & Count\n",
    "\n",
    "tokenizer = RegexpTokenizer('\\w+|\\$[\\d\\.]+|\\S+')\n",
    "\n",
    "corpus['words_list'] =  corpus['text_resp'].apply(lambda x: tokenizer.tokenize(x))\n",
    "corpus['unq_words_list'] = corpus['words_list'].apply(lambda x: np.unique(x))\n",
    "corpus['unq_words_list_cnt'] = corpus['unq_words_list'].apply(lambda x: len(x))"
   ]
  },
  {
   "cell_type": "code",
   "execution_count": 10,
   "metadata": {
    "colab": {
     "base_uri": "https://localhost:8080/",
     "height": 367
    },
    "id": "aNsw1vBFWzGC",
    "outputId": "65752149-a123-4863-a330-b845600a58c7"
   },
   "outputs": [
    {
     "data": {
      "text/html": [
       "\n",
       "  <div id=\"df-82d24768-3e18-4766-8a8c-8d2801f971c5\">\n",
       "    <div class=\"colab-df-container\">\n",
       "      <div>\n",
       "<style scoped>\n",
       "    .dataframe tbody tr th:only-of-type {\n",
       "        vertical-align: middle;\n",
       "    }\n",
       "\n",
       "    .dataframe tbody tr th {\n",
       "        vertical-align: top;\n",
       "    }\n",
       "\n",
       "    .dataframe thead th {\n",
       "        text-align: right;\n",
       "    }\n",
       "</style>\n",
       "<table border=\"1\" class=\"dataframe\">\n",
       "  <thead>\n",
       "    <tr style=\"text-align: right;\">\n",
       "      <th></th>\n",
       "      <th>Dataset</th>\n",
       "      <th>Partition</th>\n",
       "      <th>SentenceID</th>\n",
       "      <th>Threshold</th>\n",
       "      <th>MergedSelections</th>\n",
       "      <th>Unselected</th>\n",
       "      <th>Selected</th>\n",
       "      <th>Greeting</th>\n",
       "      <th>Backstory</th>\n",
       "      <th>Justification</th>\n",
       "      <th>Rant</th>\n",
       "      <th>Gratitude</th>\n",
       "      <th>Other</th>\n",
       "      <th>Express Emotion</th>\n",
       "      <th>text_resp</th>\n",
       "      <th>words_list</th>\n",
       "      <th>unq_words_list</th>\n",
       "      <th>unq_words_list_cnt</th>\n",
       "    </tr>\n",
       "  </thead>\n",
       "  <tbody>\n",
       "    <tr>\n",
       "      <th>0</th>\n",
       "      <td>1</td>\n",
       "      <td>1</td>\n",
       "      <td>2227</td>\n",
       "      <td>2</td>\n",
       "      <td>[Just to set the scene... I have a fairly tall...</td>\n",
       "      <td>if we check in online, will this mean we auto...</td>\n",
       "      <td>Just to set the scene... I have a fairly tall ...</td>\n",
       "      <td>0</td>\n",
       "      <td>1</td>\n",
       "      <td>0</td>\n",
       "      <td>0</td>\n",
       "      <td>0</td>\n",
       "      <td>1</td>\n",
       "      <td>0</td>\n",
       "      <td>if we check in online  will this mean we autom...</td>\n",
       "      <td>[if, we, check, in, online, will, this, mean, ...</td>\n",
       "      <td>[Bangkok, Emirates, I, Ideally, In, Just, My, ...</td>\n",
       "      <td>107</td>\n",
       "    </tr>\n",
       "    <tr>\n",
       "      <th>1</th>\n",
       "      <td>1</td>\n",
       "      <td>1</td>\n",
       "      <td>2182</td>\n",
       "      <td>2</td>\n",
       "      <td>I am flying from Luton to Dalaman (Turkey) nex...</td>\n",
       "      <td>I am flying from Luton to Dalaman (Turkey) nex...</td>\n",
       "      <td>We already have allocated seats, so as far as ...</td>\n",
       "      <td>0</td>\n",
       "      <td>1</td>\n",
       "      <td>0</td>\n",
       "      <td>0</td>\n",
       "      <td>0</td>\n",
       "      <td>1</td>\n",
       "      <td>0</td>\n",
       "      <td>I am flying from Luton to Dalaman  Turkey  nex...</td>\n",
       "      <td>[I, am, flying, from, Luton, to, Dalaman, Turk...</td>\n",
       "      <td>[1, 12, 2, Dalaman, I, Last, Luton, Monarch, N...</td>\n",
       "      <td>106</td>\n",
       "    </tr>\n",
       "  </tbody>\n",
       "</table>\n",
       "</div>\n",
       "      <button class=\"colab-df-convert\" onclick=\"convertToInteractive('df-82d24768-3e18-4766-8a8c-8d2801f971c5')\"\n",
       "              title=\"Convert this dataframe to an interactive table.\"\n",
       "              style=\"display:none;\">\n",
       "        \n",
       "  <svg xmlns=\"http://www.w3.org/2000/svg\" height=\"24px\"viewBox=\"0 0 24 24\"\n",
       "       width=\"24px\">\n",
       "    <path d=\"M0 0h24v24H0V0z\" fill=\"none\"/>\n",
       "    <path d=\"M18.56 5.44l.94 2.06.94-2.06 2.06-.94-2.06-.94-.94-2.06-.94 2.06-2.06.94zm-11 1L8.5 8.5l.94-2.06 2.06-.94-2.06-.94L8.5 2.5l-.94 2.06-2.06.94zm10 10l.94 2.06.94-2.06 2.06-.94-2.06-.94-.94-2.06-.94 2.06-2.06.94z\"/><path d=\"M17.41 7.96l-1.37-1.37c-.4-.4-.92-.59-1.43-.59-.52 0-1.04.2-1.43.59L10.3 9.45l-7.72 7.72c-.78.78-.78 2.05 0 2.83L4 21.41c.39.39.9.59 1.41.59.51 0 1.02-.2 1.41-.59l7.78-7.78 2.81-2.81c.8-.78.8-2.07 0-2.86zM5.41 20L4 18.59l7.72-7.72 1.47 1.35L5.41 20z\"/>\n",
       "  </svg>\n",
       "      </button>\n",
       "      \n",
       "  <style>\n",
       "    .colab-df-container {\n",
       "      display:flex;\n",
       "      flex-wrap:wrap;\n",
       "      gap: 12px;\n",
       "    }\n",
       "\n",
       "    .colab-df-convert {\n",
       "      background-color: #E8F0FE;\n",
       "      border: none;\n",
       "      border-radius: 50%;\n",
       "      cursor: pointer;\n",
       "      display: none;\n",
       "      fill: #1967D2;\n",
       "      height: 32px;\n",
       "      padding: 0 0 0 0;\n",
       "      width: 32px;\n",
       "    }\n",
       "\n",
       "    .colab-df-convert:hover {\n",
       "      background-color: #E2EBFA;\n",
       "      box-shadow: 0px 1px 2px rgba(60, 64, 67, 0.3), 0px 1px 3px 1px rgba(60, 64, 67, 0.15);\n",
       "      fill: #174EA6;\n",
       "    }\n",
       "\n",
       "    [theme=dark] .colab-df-convert {\n",
       "      background-color: #3B4455;\n",
       "      fill: #D2E3FC;\n",
       "    }\n",
       "\n",
       "    [theme=dark] .colab-df-convert:hover {\n",
       "      background-color: #434B5C;\n",
       "      box-shadow: 0px 1px 3px 1px rgba(0, 0, 0, 0.15);\n",
       "      filter: drop-shadow(0px 1px 2px rgba(0, 0, 0, 0.3));\n",
       "      fill: #FFFFFF;\n",
       "    }\n",
       "  </style>\n",
       "\n",
       "      <script>\n",
       "        const buttonEl =\n",
       "          document.querySelector('#df-82d24768-3e18-4766-8a8c-8d2801f971c5 button.colab-df-convert');\n",
       "        buttonEl.style.display =\n",
       "          google.colab.kernel.accessAllowed ? 'block' : 'none';\n",
       "\n",
       "        async function convertToInteractive(key) {\n",
       "          const element = document.querySelector('#df-82d24768-3e18-4766-8a8c-8d2801f971c5');\n",
       "          const dataTable =\n",
       "            await google.colab.kernel.invokeFunction('convertToInteractive',\n",
       "                                                     [key], {});\n",
       "          if (!dataTable) return;\n",
       "\n",
       "          const docLinkHtml = 'Like what you see? Visit the ' +\n",
       "            '<a target=\"_blank\" href=https://colab.research.google.com/notebooks/data_table.ipynb>data table notebook</a>'\n",
       "            + ' to learn more about interactive tables.';\n",
       "          element.innerHTML = '';\n",
       "          dataTable['output_type'] = 'display_data';\n",
       "          await google.colab.output.renderOutput(dataTable, element);\n",
       "          const docLink = document.createElement('div');\n",
       "          docLink.innerHTML = docLinkHtml;\n",
       "          element.appendChild(docLink);\n",
       "        }\n",
       "      </script>\n",
       "    </div>\n",
       "  </div>\n",
       "  "
      ],
      "text/plain": [
       "   Dataset  Partition  SentenceID  Threshold  \\\n",
       "0        1          1        2227          2   \n",
       "1        1          1        2182          2   \n",
       "\n",
       "                                    MergedSelections  \\\n",
       "0  [Just to set the scene... I have a fairly tall...   \n",
       "1  I am flying from Luton to Dalaman (Turkey) nex...   \n",
       "\n",
       "                                          Unselected  \\\n",
       "0   if we check in online, will this mean we auto...   \n",
       "1  I am flying from Luton to Dalaman (Turkey) nex...   \n",
       "\n",
       "                                            Selected  Greeting  Backstory  \\\n",
       "0  Just to set the scene... I have a fairly tall ...         0          1   \n",
       "1  We already have allocated seats, so as far as ...         0          1   \n",
       "\n",
       "   Justification  Rant  Gratitude  Other  Express Emotion  \\\n",
       "0              0     0          0      1                0   \n",
       "1              0     0          0      1                0   \n",
       "\n",
       "                                           text_resp  \\\n",
       "0  if we check in online  will this mean we autom...   \n",
       "1  I am flying from Luton to Dalaman  Turkey  nex...   \n",
       "\n",
       "                                          words_list  \\\n",
       "0  [if, we, check, in, online, will, this, mean, ...   \n",
       "1  [I, am, flying, from, Luton, to, Dalaman, Turk...   \n",
       "\n",
       "                                      unq_words_list  unq_words_list_cnt  \n",
       "0  [Bangkok, Emirates, I, Ideally, In, Just, My, ...                 107  \n",
       "1  [1, 12, 2, Dalaman, I, Last, Luton, Monarch, N...                 106  "
      ]
     },
     "execution_count": 10,
     "metadata": {},
     "output_type": "execute_result"
    }
   ],
   "source": [
    "# show new columns \n",
    "\n",
    "corpus.head(2)"
   ]
  },
  {
   "cell_type": "code",
   "execution_count": 11,
   "metadata": {
    "colab": {
     "base_uri": "https://localhost:8080/",
     "height": 519
    },
    "id": "f1yDcd2IW12C",
    "outputId": "f99a2436-e7cd-43f0-bdf7-5542feeaf825"
   },
   "outputs": [
    {
     "name": "stderr",
     "output_type": "stream",
     "text": [
      "/usr/local/lib/python3.7/dist-packages/seaborn/distributions.py:2619: FutureWarning: `distplot` is a deprecated function and will be removed in a future version. Please adapt your code to use either `displot` (a figure-level function with similar flexibility) or `histplot` (an axes-level function for histograms).\n",
      "  warnings.warn(msg, FutureWarning)\n"
     ]
    },
    {
     "data": {
      "image/png": "[encoded data removed]",
      "text/plain": [
       "<Figure size 864x504 with 1 Axes>"
      ]
     },
     "metadata": {
      "needs_background": "light"
     },
     "output_type": "display_data"
    }
   ],
   "source": [
    "# distribution of unique wrods\n",
    "\n",
    "plt.figure(figsize=(12,7))\n",
    "\n",
    "sns.set(style='white')\n",
    "\n",
    "sns.distplot(a=corpus['unq_words_list_cnt'],bins=40)\n",
    "plt.title('Distribution of Unique words in data');"
   ]
  },
  {
   "cell_type": "code",
   "execution_count": 12,
   "metadata": {
    "colab": {
     "base_uri": "https://localhost:8080/",
     "height": 1000
    },
    "id": "ueT2gibwW4k4",
    "outputId": "a82faf81-11d7-47cb-9bca-e9d50260b301"
   },
   "outputs": [
    {
     "data": {
      "text/plain": [
       "<Figure size 864x504 with 0 Axes>"
      ]
     },
     "execution_count": 12,
     "metadata": {},
     "output_type": "execute_result"
    },
    {
     "data": {
      "text/plain": [
       "<matplotlib.axes._subplots.AxesSubplot at 0x7f0bcd089690>"
      ]
     },
     "execution_count": 12,
     "metadata": {},
     "output_type": "execute_result"
    },
    {
     "data": {
      "text/plain": [
       "Text(0.5, 1.0, 'Distribution of Greeting')"
      ]
     },
     "execution_count": 12,
     "metadata": {},
     "output_type": "execute_result"
    },
    {
     "data": {
      "text/plain": [
       "<Figure size 864x504 with 0 Axes>"
      ]
     },
     "execution_count": 12,
     "metadata": {},
     "output_type": "execute_result"
    },
    {
     "data": {
      "text/plain": [
       "<matplotlib.axes._subplots.AxesSubplot at 0x7f0bcd0899d0>"
      ]
     },
     "execution_count": 12,
     "metadata": {},
     "output_type": "execute_result"
    },
    {
     "data": {
      "text/plain": [
       "Text(0.5, 1.0, 'Distribution of Gratitude')"
      ]
     },
     "execution_count": 12,
     "metadata": {},
     "output_type": "execute_result"
    },
    {
     "data": {
      "text/plain": [
       "<Figure size 864x504 with 0 Axes>"
      ]
     },
     "execution_count": 12,
     "metadata": {},
     "output_type": "execute_result"
    },
    {
     "data": {
      "text/plain": [
       "<matplotlib.axes._subplots.AxesSubplot at 0x7f0bc994cf50>"
      ]
     },
     "execution_count": 12,
     "metadata": {},
     "output_type": "execute_result"
    },
    {
     "data": {
      "text/plain": [
       "Text(0.5, 1.0, 'Distribution of Rant')"
      ]
     },
     "execution_count": 12,
     "metadata": {},
     "output_type": "execute_result"
    },
    {
     "data": {
      "text/plain": [
       "<Figure size 864x504 with 0 Axes>"
      ]
     },
     "execution_count": 12,
     "metadata": {},
     "output_type": "execute_result"
    },
    {
     "data": {
      "text/plain": [
       "<matplotlib.axes._subplots.AxesSubplot at 0x7f0bc98d0d50>"
      ]
     },
     "execution_count": 12,
     "metadata": {},
     "output_type": "execute_result"
    },
    {
     "data": {
      "text/plain": [
       "Text(0.5, 1.0, 'Distribution of Backstory')"
      ]
     },
     "execution_count": 12,
     "metadata": {},
     "output_type": "execute_result"
    },
    {
     "data": {
      "text/plain": [
       "<Figure size 864x504 with 0 Axes>"
      ]
     },
     "execution_count": 12,
     "metadata": {},
     "output_type": "execute_result"
    },
    {
     "data": {
      "text/plain": [
       "<matplotlib.axes._subplots.AxesSubplot at 0x7f0bc98db7d0>"
      ]
     },
     "execution_count": 12,
     "metadata": {},
     "output_type": "execute_result"
    },
    {
     "data": {
      "text/plain": [
       "Text(0.5, 1.0, 'Distribution of Justification')"
      ]
     },
     "execution_count": 12,
     "metadata": {},
     "output_type": "execute_result"
    },
    {
     "data": {
      "text/plain": [
       "<Figure size 864x504 with 0 Axes>"
      ]
     },
     "execution_count": 12,
     "metadata": {},
     "output_type": "execute_result"
    },
    {
     "data": {
      "text/plain": [
       "<matplotlib.axes._subplots.AxesSubplot at 0x7f0bc991db10>"
      ]
     },
     "execution_count": 12,
     "metadata": {},
     "output_type": "execute_result"
    },
    {
     "data": {
      "text/plain": [
       "Text(0.5, 1.0, 'Distribution of Express Emotion')"
      ]
     },
     "execution_count": 12,
     "metadata": {},
     "output_type": "execute_result"
    },
    {
     "data": {
      "image/png": "[encoded data removed]",
      "text/plain": [
       "<Figure size 864x504 with 1 Axes>"
      ]
     },
     "metadata": {},
     "output_type": "display_data"
    },
    {
     "data": {
      "image/png": "[encoded data removed]",
      "text/plain": [
       "<Figure size 864x504 with 1 Axes>"
      ]
     },
     "metadata": {},
     "output_type": "display_data"
    },
    {
     "data": {
      "image/png": "[encoded data removed]",
      "text/plain": [
       "<Figure size 864x504 with 1 Axes>"
      ]
     },
     "metadata": {},
     "output_type": "display_data"
    },
    {
     "data": {
      "image/png": "[encoded data removed]",
      "text/plain": [
       "<Figure size 864x504 with 1 Axes>"
      ]
     },
     "metadata": {},
     "output_type": "display_data"
    },
    {
     "data": {
      "image/png": "[encoded data removed]",
      "text/plain": [
       "<Figure size 864x504 with 1 Axes>"
      ]
     },
     "metadata": {},
     "output_type": "display_data"
    },
    {
     "data": {
      "image/png": "[encoded data removed]",
      "text/plain": [
       "<Figure size 864x504 with 1 Axes>"
      ]
     },
     "metadata": {},
     "output_type": "display_data"
    }
   ],
   "source": [
    "#  display distribution of boolean columns\n",
    "\n",
    "bool_cols  = ['Greeting','Gratitude','Rant','Backstory','Justification','Express Emotion']\n",
    "\n",
    "for col in bool_cols:\n",
    "    \n",
    "    plt.figure(figsize=(12,7))\n",
    "    sns.set(style='white')\n",
    "    \n",
    "    sns.countplot(data=corpus, x=col)\n",
    "    plt.title(f'Distribution of {col}');"
   ]
  },
  {
   "cell_type": "code",
   "execution_count": 13,
   "metadata": {
    "colab": {
     "base_uri": "https://localhost:8080/"
    },
    "id": "zdW--hxlW7pe",
    "outputId": "55e22837-54dd-4227-d3ec-4f65157f9ae4"
   },
   "outputs": [
    {
     "name": "stdout",
     "output_type": "stream",
     "text": [
      "Number of Sequences:  379612\n"
     ]
    }
   ],
   "source": [
    "# feature engineering\n",
    "\n",
    "text_data = ' '.join(corpus['text_resp'].to_list())\n",
    "\n",
    "# creating sentences form text data by specific len\n",
    "\n",
    "maxlen = 10\n",
    "step =3\n",
    "sentences = []\n",
    "next_chars =[]\n",
    "\n",
    "for i in range(0, len(text_data) - maxlen, step):\n",
    "    sentences.append(text_data[i:i+maxlen])\n",
    "    next_chars.append(text_data[i+maxlen])\n",
    "    \n",
    "print('Number of Sequences: ', len(sentences))"
   ]
  },
  {
   "cell_type": "code",
   "execution_count": 14,
   "metadata": {
    "colab": {
     "base_uri": "https://localhost:8080/"
    },
    "id": "wyo62bViXBfq",
    "outputId": "f8be4225-7d7e-4eeb-e6d8-d5581e8e5cfd"
   },
   "outputs": [
    {
     "name": "stdout",
     "output_type": "stream",
     "text": [
      "Unique characters: 67\n"
     ]
    }
   ],
   "source": [
    "# map unique chars to its index\n",
    "\n",
    "chars = sorted(list(set(text_data)))\n",
    "print('Unique characters:', len(chars))\n",
    "char_indices = dict((char, chars.index(char)) for char in chars)"
   ]
  },
  {
   "cell_type": "code",
   "execution_count": 15,
   "metadata": {
    "id": "x3oYfR6RXYiW"
   },
   "outputs": [],
   "source": [
    "# vectorize the text data\n",
    "\n",
    "x = np.zeros((len(sentences), maxlen, len(chars)), dtype=bool)\n",
    "y = np.zeros((len(sentences), len(chars)), dtype=bool)\n",
    "for i, sentence in enumerate(sentences):\n",
    "    for t, char in enumerate(sentence):\n",
    "        x[i, t, char_indices[char]] = 1\n",
    "    y[i, char_indices[next_chars[i]]] = 1"
   ]
  },
  {
   "cell_type": "markdown",
   "metadata": {
    "id": "T1zt7_73XwG4"
   },
   "source": [
    "#### model building"
   ]
  },
  {
   "cell_type": "code",
   "execution_count": 16,
   "metadata": {
    "colab": {
     "base_uri": "https://localhost:8080/"
    },
    "id": "Ygyak5FHXwuv",
    "outputId": "97aca8ea-0f47-49c3-efd2-c8af2aa61b43"
   },
   "outputs": [
    {
     "name": "stdout",
     "output_type": "stream",
     "text": [
      "Model: \"sequential\"\n",
      "_________________________________________________________________\n",
      " Layer (type)                Output Shape              Param #   \n",
      "=================================================================\n",
      " lstm (LSTM)                 (None, 128)               100352    \n",
      "                                                                 \n",
      " dense (Dense)               (None, 67)                8643      \n",
      "                                                                 \n",
      "=================================================================\n",
      "Total params: 108,995\n",
      "Trainable params: 108,995\n",
      "Non-trainable params: 0\n",
      "_________________________________________________________________\n"
     ]
    }
   ],
   "source": [
    "# using single dense layer & show summary\n",
    "\n",
    "model = Sequential()\n",
    "model.add(layers.LSTM(128,input_shape = (maxlen,len(chars))))\n",
    "model.add(layers.Dense(len(chars),activation = 'softmax'))\n",
    "\n",
    "model.summary()"
   ]
  },
  {
   "cell_type": "code",
   "execution_count": 17,
   "metadata": {
    "id": "9QIbcxY3X-tb"
   },
   "outputs": [],
   "source": [
    "#### model compilation config\n",
    "\n",
    "optimizer = tf.keras.optimizers.RMSprop(learning_rate=0.01)\n",
    "model.compile(loss = 'categorical_crossentropy',optimizer=optimizer,metrics=['acc'])"
   ]
  },
  {
   "cell_type": "code",
   "execution_count": 18,
   "metadata": {
    "id": "kPKFL9YoYOi-"
   },
   "outputs": [],
   "source": [
    "#  function sample the text char based on prediction\n",
    "\n",
    "def sample(preds, temperature=1.0):\n",
    "    preds = np.asarray(preds).astype('float64')\n",
    "    preds = np.log(preds) / temperature\n",
    "    exp_preds = np.exp(preds)\n",
    "    preds = exp_preds / np.sum(exp_preds)\n",
    "    probas = np.random.multinomial(1, preds, 1)\n",
    "    return np.argmax(probas)"
   ]
  },
  {
   "cell_type": "code",
   "execution_count": 23,
   "metadata": {
    "colab": {
     "base_uri": "https://localhost:8080/"
    },
    "id": "4Qp5-df5YQ61",
    "outputId": "d8d43eef-5a2d-4716-82e4-7b5b07f6debe"
   },
   "outputs": [
    {
     "name": "stdout",
     "output_type": "stream",
     "text": [
      "Epoch 1/20\n",
      "2818/2818 [==============================] - 15s 5ms/step - loss: 1.2914 - acc: 0.6278 - val_loss: 1.2878 - val_acc: 0.6256\n",
      "Epoch 2/20\n",
      "2818/2818 [==============================] - 14s 5ms/step - loss: 1.2892 - acc: 0.6290 - val_loss: 1.3044 - val_acc: 0.6252\n",
      "Epoch 3/20\n",
      "2818/2818 [==============================] - 16s 6ms/step - loss: 1.2883 - acc: 0.6290 - val_loss: 1.3221 - val_acc: 0.6226\n",
      "Epoch 4/20\n",
      "2818/2818 [==============================] - 15s 5ms/step - loss: 1.2854 - acc: 0.6302 - val_loss: 1.3313 - val_acc: 0.6197\n",
      "Epoch 5/20\n",
      "2818/2818 [==============================] - 18s 6ms/step - loss: 1.2840 - acc: 0.6304 - val_loss: 1.3386 - val_acc: 0.6173\n",
      "Epoch 6/20\n",
      "2818/2818 [==============================] - 14s 5ms/step - loss: 1.2829 - acc: 0.6305 - val_loss: 1.3371 - val_acc: 0.6188\n",
      "Epoch 7/20\n",
      "2818/2818 [==============================] - 14s 5ms/step - loss: 1.2816 - acc: 0.6314 - val_loss: 1.3425 - val_acc: 0.6175\n",
      "Epoch 8/20\n",
      "2818/2818 [==============================] - 14s 5ms/step - loss: 1.2808 - acc: 0.6308 - val_loss: 1.3601 - val_acc: 0.6148\n",
      "Epoch 9/20\n",
      "2818/2818 [==============================] - 14s 5ms/step - loss: 1.2808 - acc: 0.6312 - val_loss: 1.3675 - val_acc: 0.6129\n",
      "Epoch 10/20\n",
      "2818/2818 [==============================] - 14s 5ms/step - loss: 1.2819 - acc: 0.6310 - val_loss: 1.3561 - val_acc: 0.6143\n",
      "Epoch 11/20\n",
      "2818/2818 [==============================] - 14s 5ms/step - loss: 1.2818 - acc: 0.6314 - val_loss: 1.3504 - val_acc: 0.6168\n",
      "Epoch 12/20\n",
      "2818/2818 [==============================] - 14s 5ms/step - loss: 1.2818 - acc: 0.6320 - val_loss: 1.3528 - val_acc: 0.6200\n",
      "Epoch 13/20\n",
      "2818/2818 [==============================] - 14s 5ms/step - loss: 1.2829 - acc: 0.6325 - val_loss: 1.3588 - val_acc: 0.6171\n",
      "Epoch 14/20\n",
      "2818/2818 [==============================] - 14s 5ms/step - loss: 1.2818 - acc: 0.6325 - val_loss: 1.3646 - val_acc: 0.6163\n",
      "Epoch 15/20\n",
      "2818/2818 [==============================] - 14s 5ms/step - loss: 1.2816 - acc: 0.6321 - val_loss: 1.3744 - val_acc: 0.6122\n",
      "Epoch 16/20\n",
      "2818/2818 [==============================] - 14s 5ms/step - loss: 1.2840 - acc: 0.6318 - val_loss: 1.3732 - val_acc: 0.6134\n",
      "Epoch 17/20\n",
      "2818/2818 [==============================] - 14s 5ms/step - loss: 1.2849 - acc: 0.6316 - val_loss: 1.3786 - val_acc: 0.6145\n",
      "Epoch 18/20\n",
      "2818/2818 [==============================] - 14s 5ms/step - loss: 1.2838 - acc: 0.6320 - val_loss: 1.4325 - val_acc: 0.6070\n",
      "Epoch 19/20\n",
      "2818/2818 [==============================] - 14s 5ms/step - loss: 1.2860 - acc: 0.6314 - val_loss: 1.3983 - val_acc: 0.6149\n",
      "Epoch 20/20\n",
      "2818/2818 [==============================] - 14s 5ms/step - loss: 1.2877 - acc: 0.6307 - val_loss: 1.3850 - val_acc: 0.6142\n"
     ]
    }
   ],
   "source": [
    "#  train the model for 20 epochs\n",
    "\n",
    "history = model.fit(x, y, validation_split=0.05, batch_size=128, epochs=20, shuffle=True).history"
   ]
  },
  {
   "cell_type": "code",
   "execution_count": 24,
   "metadata": {
    "id": "jpuXpI9FYm-c"
   },
   "outputs": [],
   "source": [
    "#  save the model\n",
    "\n",
    "model.save('next_word_model.h5')\n",
    "pickle.dump(history, open(\"history.p\", \"wb\"))\n",
    "model = load_model('next_word_model.h5')\n",
    "history = pickle.load(open(\"history.p\", \"rb\"))"
   ]
  },
  {
   "cell_type": "code",
   "execution_count": 28,
   "metadata": {
    "colab": {
     "base_uri": "https://localhost:8080/",
     "height": 464
    },
    "id": "WP6rfAeLYnLb",
    "outputId": "53ba5b36-0fd0-4061-8ab7-a5154a1dcd49"
   },
   "outputs": [
    {
     "data": {
      "image/png": "[encoded data removed]",
      "text/plain": [
       "<Figure size 864x504 with 1 Axes>"
      ]
     },
     "metadata": {},
     "output_type": "display_data"
    }
   ],
   "source": [
    "#  evaluating model \n",
    "\n",
    "plt.figure(figsize=(12,7))\n",
    "sns.set(style='white')\n",
    "plt.plot(history['acc'])\n",
    "plt.plot(history['val_acc'])\n",
    "plt.title('model accuracy')\n",
    "plt.ylabel('accuracy')\n",
    "plt.xlabel('epoch')\n",
    "plt.legend(['train', 'test'], loc='upper left');"
   ]
  },
  {
   "cell_type": "code",
   "execution_count": 29,
   "metadata": {
    "colab": {
     "base_uri": "https://localhost:8080/",
     "height": 464
    },
    "id": "Mtcz1-onYV5g",
    "outputId": "472ba665-5a18-48a9-f7d9-0897ff17569d"
   },
   "outputs": [
    {
     "data": {
      "image/png": "[encoded data removed]",
      "text/plain": [
       "<Figure size 864x504 with 1 Axes>"
      ]
     },
     "metadata": {},
     "output_type": "display_data"
    }
   ],
   "source": [
    "plt.figure(figsize=(12,7))\n",
    "sns.set(style='white')\n",
    "plt.plot(history['loss'])\n",
    "plt.plot(history['val_loss'])\n",
    "plt.title('model loss')\n",
    "plt.ylabel('loss')\n",
    "plt.xlabel('epoch')\n",
    "plt.legend(['train', 'test'], loc='upper left');"
   ]
  },
  {
   "cell_type": "code",
   "execution_count": 30,
   "metadata": {
    "id": "N2BZj_FmYfFm"
   },
   "outputs": [],
   "source": [
    "#  text generation loop & train the model\n",
    "\n",
    "def generate_text(sample_text, temperatures):\n",
    "    \n",
    "    # start_index = random.randint(0, len(texttext_data) - maxlen - 1)\n",
    "    # generated_text = text_data[start_index: start_index + maxlen]\n",
    "    generated_text = sample_text.lower()\n",
    "    print('--- Generating with seed: \"' + generated_text + '\"')\n",
    " \n",
    "    for temperature in temperatures:\n",
    "        print('\\n------ temperature:', temperature)\n",
    "        sys.stdout.write(generated_text)\n",
    "        for i in range(400):\n",
    "            sampled = np.zeros((1, maxlen, len(chars)))\n",
    "            for t, char in enumerate(generated_text):\n",
    "                sampled[0, t, char_indices[char]] = 1.\n",
    "            preds = model.predict(sampled, verbose=0)[0]\n",
    "            next_index = sample(preds, temperature)\n",
    "            next_char = chars[next_index]\n",
    "            generated_text += next_char\n",
    "            generated_text = generated_text[1:]\n",
    "            sys.stdout.write(next_char)"
   ]
  },
  {
   "cell_type": "code",
   "execution_count": 34,
   "metadata": {
    "colab": {
     "base_uri": "https://localhost:8080/"
    },
    "id": "Y8mtTCKKYgap",
    "outputId": "de53c89f-e1cf-4b49-a8e5-ce9a5c5dc79b"
   },
   "outputs": [
    {
     "name": "stdout",
     "output_type": "stream",
     "text": [
      "\n",
      "\n",
      "-----Sample Text#1---------:\n",
      "\n",
      "--- Generating with seed: \"i have bee\"\n",
      "\n",
      "------ temperature: 0.2\n",
      "i have been to change my connection  I have a travel from a train and the flight  I have a flight  I have a flight to the change the change the flight with the ticket from the airport  I have been told the ticket  I have a check in                                                                                                                                                                                   \n",
      "\n",
      "-----Sample Text#2---------:\n",
      "\n",
      "--- Generating with seed: \"i have bee\"\n",
      "\n",
      "------ temperature: 0.2\n",
      "i have been told the ticket  I do not have a flight  I have a flight to and the change the flight  I have a flight to recomment  I have a train the seats  I have the flight  I have a flight  I want to get the change the flight                                                                                                                                                                                        \n",
      "\n",
      "-----Sample Text#3---------:\n",
      "\n",
      "--- Generating with seed: \"i have bee\"\n",
      "\n",
      "------ temperature: 0.2\n",
      "i have been a connection                                                                                                                                                                                                                                                                                                                                                                                                  \n",
      "\n",
      "-----Sample Text#4---------:\n",
      "\n",
      "--- Generating with seed: \"i have bee\"\n",
      "\n",
      "------ temperature: 0.2\n",
      "i have been to change the flight                                                                                                                                                                                                                                                                                                                                                                                          \n",
      "\n",
      "-----Sample Text#5---------:\n",
      "\n",
      "--- Generating with seed: \"i have bee\"\n",
      "\n",
      "------ temperature: 0.2\n",
      "i have been to see a flight to an airlines  I have a train than a train the change the flight  I have a flight with the airport  I have a flight from San Mine and the ticket to be a flight to be all the ticket  I have a flight to an any to an and the ticket  I have a flight from the card                                                                                                                          \n",
      "\n",
      "-----Sample Text#6---------:\n",
      "\n",
      "--- Generating with seed: \"i have bee\"\n",
      "\n",
      "------ temperature: 0.2\n",
      "i have been told the flight  I have a flight to the flight  I am travel from the seat on the flight  I have a flight  I am travel from the train to the flight                                                                                                                                                                                                                                                            \n",
      "\n",
      "-----Sample Text#7---------:\n",
      "\n",
      "--- Generating with seed: \"i have bee\"\n",
      "\n",
      "------ temperature: 0.2\n",
      "i have been to be able to change the seat the flight  I have a flight to the flight                                                                                                                                                                                                                                                                                                                                       \n",
      "\n",
      "-----Sample Text#8---------:\n",
      "\n",
      "--- Generating with seed: \"i have bee\"\n",
      "\n",
      "------ temperature: 0.2\n",
      "i have been to change the flight from the flight                                                                                                                                                                                                                                                                                                                                                                          \n",
      "\n",
      "-----Sample Text#9---------:\n",
      "\n",
      "--- Generating with seed: \"i have bee\"\n",
      "\n",
      "------ temperature: 0.2\n",
      "i have been connection  I m about the flight  I want to get the ticket  I have the ticket from the flight  I have a flight to San Cna abox is                                                                                                                                                                                                                                                                             \n",
      "\n",
      "-----Sample Text#10---------:\n",
      "\n",
      "--- Generating with seed: \"i have bee\"\n",
      "\n",
      "------ temperature: 0.2\n",
      "i have been to the booking an and a flight  I want to get the airport  I have a train the seat to the ticket  I am travel from the train to an and the seats                                                                                                                                                                                                                                                              \n",
      "\n",
      "-----Sample Text#11---------:\n",
      "\n",
      "--- Generating with seed: \"i have bee\"\n",
      "\n",
      "------ temperature: 0.2\n",
      "i have been connect the flight on the seat the flight  I have a mileage plan"
     ]
    },
    {
     "name": "stderr",
     "output_type": "stream",
     "text": [
      "/usr/local/lib/python3.7/dist-packages/ipykernel_launcher.py:5: RuntimeWarning: divide by zero encountered in log\n",
      "  \"\"\"\n"
     ]
    },
    {
     "name": "stdout",
     "output_type": "stream",
     "text": [
      " account  I have the flight on a flight from Cancun  I have the miles                                                                                                                                                                                                                                                                         \n",
      "\n",
      "-----Sample Text#12---------:\n",
      "\n",
      "--- Generating with seed: \"i have bee\"\n",
      "\n",
      "------ temperature: 0.2\n",
      "i have been an airline  I have the fare                                                                                                                                                                                                                                                                                                                                                                                   \n",
      "\n",
      "-----Sample Text#13---------:\n",
      "\n",
      "--- Generating with seed: \"i have bee\"\n",
      "\n",
      "------ temperature: 0.2\n",
      "i have been told that the connection  I have a flight  I m trying to get a train from the ticket from the airport  I am travel from the seat in the ticket  I am travel  I have a train the flight                                                                                                                                                                                                                        \n",
      "\n",
      "-----Sample Text#14---------:\n",
      "\n",
      "--- Generating with seed: \"i have bee\"\n",
      "\n",
      "------ temperature: 0.2\n",
      "i have been told the connection  I have the connection  I have a flight to an and the seats  I have a flight                                                                                                                                                                                                                                                                                                              \n",
      "\n",
      "-----Sample Text#15---------:\n",
      "\n",
      "--- Generating with seed: \"i have bee\"\n",
      "\n",
      "------ temperature: 0.2\n",
      "i have been to be available  I have a flight to the change the ticket  I have a flight  I have a flight from the flight to the flight  I have the flight  I have a flight to an and the ticket from the ticket  I have a train  I want to be a flight to an and the ticket from the ticket from the flight  I want to get a flight to be able to change the flight                                                        \n",
      "\n",
      "-----Sample Text#16---------:\n",
      "\n",
      "--- Generating with seed: \"i have bee\"\n",
      "\n",
      "------ temperature: 0.2\n",
      "i have been told the flight to the same and the train the flight to an a the flight  I have a new ticket  I have a free the flight                                                                                                                                                                                                                                                                                        \n",
      "\n",
      "-----Sample Text#17---------:\n",
      "\n",
      "--- Generating with seed: \"i have bee\"\n",
      "\n",
      "------ temperature: 0.2\n",
      "i have been to the flight to the flight  what is the ticket from the flight  I am travel from the flight  I have a ticket  I have a flight to and the card  I can t get the flight from the flight                                                                                                                                                                                                                        \n",
      "\n",
      "-----Sample Text#18---------:\n",
      "\n",
      "--- Generating with seed: \"i have bee\"\n",
      "\n",
      "------ temperature: 0.2\n",
      "i have been to the same and the flight  I have a flight from the flight  I have a seat on the ticket from the airport  I m trying to get the flight from the flight  I have a senior from Thomson                                                                                                                                                                                                                         \n",
      "\n",
      "-----Sample Text#19---------:\n",
      "\n",
      "--- Generating with seed: \"i have bee\"\n",
      "\n",
      "------ temperature: 0.2\n",
      "i have been help                                                                                                                                                                                                                                                                                                                                                                                                          \n",
      "\n",
      "-----Sample Text#20---------:\n",
      "\n",
      "--- Generating with seed: \"i have bee\"\n",
      "\n",
      "------ temperature: 0.2\n",
      "i have been to change the flight on the flight to San Mine and the airport  I am travel from the flight  I want to be an and the ticket  I have a senior                                                                                                                                                                                                                                                                  "
     ]
    }
   ],
   "source": [
    "# geenrate texts\n",
    "sample_text = 'I have bee'\n",
    "# Sample text since temperature 0.2 generated more relevant text so used for generating smple texts\n",
    "\n",
    "temperatures = [0.2]\n",
    "\n",
    "for i in range(1,21):\n",
    "    \n",
    "    print(f'\\n\\n-----Sample Text#{i}---------:\\n')\n",
    "    generate_text(sample_text,temperatures)"
   ]
  },
  {
   "cell_type": "markdown",
   "metadata": {
    "id": "TUwK7HWolkG5"
   },
   "source": [
    "# END"
   ]
  }
 ],
 "metadata": {
  "accelerator": "GPU",
  "colab": {
   "collapsed_sections": [],
   "name": "dsc680_project1.ipynb",
   "provenance": []
  },
  "gpuClass": "standard",
  "kernelspec": {
   "display_name": "Python 3 (ipykernel)",
   "language": "python",
   "name": "python3"
  },
  "language_info": {
   "codemirror_mode": {
    "name": "ipython",
    "version": 3
   },
   "file_extension": ".py",
   "mimetype": "text/x-python",
   "name": "python",
   "nbconvert_exporter": "python",
   "pygments_lexer": "ipython3",
   "version": "3.8.2"
  }
 },
 "nbformat": 4,
 "nbformat_minor": 4
}
