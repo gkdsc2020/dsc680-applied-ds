{
 "cells": [
  {
   "cell_type": "markdown",
   "id": "c9d4d0d5-e0c4-4d93-985a-d660d528d79b",
   "metadata": {
    "tags": []
   },
   "source": [
    "# Title:    Next Word Prediction-Language Model\n",
    "\n",
    "## Business Understanding:-\n",
    "\n",
    "### Introduction:\n",
    "\n",
    "Language modeling involves predicting the next word in a sequence given the sequence of words already present. A language model is a key element in many natural language processing models such resolving customers inquiries through chat or answering the questions through emails.\n",
    "\n",
    "In customer Service business especially in messaging or Chats or email supports, customer representative often struggle to response fast if they have limited knowledge of business area wherein the inquiry is about and need to respond fast for better service and improved customer satisfaction\n",
    "\n",
    "### Business Problem:\n",
    "\n",
    "Business Stakeholder wanted to build model that would learn from previously provided chat or email resolution history and suggest the next word when representative start providing resolution to the customers inquiry.\n",
    "\n",
    "•\tBuild the model that would predict the next word based on previous context.\n",
    "\n",
    "\n",
    "#### Techniques:\n",
    "\n",
    "The model would be built using Recurrent neural networks (RNN) and TensorFlow and Keras.\n",
    "\n",
    "\n",
    "### Data Definitions:\n",
    "\n",
    "Columns:\n",
    "\n",
    "* Dataset ID: Dataset that the request originated from.\n",
    "* Group ID: The group of 4 annotators that the selections originated from.\n",
    "* Request ID: Unique ID of a request to allow joining between different files.\n",
    "* Threshold: The threshold (i) to merge selections by.\n",
    "* MergedSelections: If at least i annotators marked a character as unnecessary then it will be contained within the selected portion denoted by [ and ].\n",
    "* Unselected: All text from MergedSelections not contained by [ and ].\n",
    "* Selected: All text from MergedSelections contained by [ and ].\n",
    "* Greeting: If a greeting of some kind (Hi, How are you) is present in Selected\n",
    "* Backstory: If self-exposure language is present in Selected. The user is telling the audience about themselves, their situation, what led them to contact the agent or ask their question.\n",
    "* Justification: If justification language is present in Selected. The user is giving facts to build credibility that their request or statement is true. Also can be why they need resolution or a consequence if something is not resolved.\n",
    "* Rant: If ranting is present in Selected. Excessive complaining or negative narrative.\n",
    "* Gratitude: If some expression of gratitude to the audience for past or future help is present in Selected.\n",
    "* Other: If some or all of the highlighted section does not contain any relational language in Selected. Could be additional facts the user gave but annotators determined was unnecessary to determine their intention, or a general question such as Can you help?.\n",
    "* Express Emotion: If any emotional language not covered by Rant is present in Selected\n"
   ]
  },
  {
   "cell_type": "markdown",
   "id": "9d345d4b-dc6d-4181-bdde-3dfb9767f616",
   "metadata": {},
   "source": [
    "## Data Understanding:"
   ]
  },
  {
   "cell_type": "code",
   "execution_count": 129,
   "id": "ebdaf661-86e5-4903-a7ea-ac295e7217d7",
   "metadata": {},
   "outputs": [],
   "source": [
    "# import required libraries\n",
    "\n",
    "import numpy as np\n",
    "import pandas as pd\n",
    "import seaborn as sns\n",
    "import heapq\n",
    "import re\n",
    "import nltk\n",
    "import matplotlib.pyplot as plt\n",
    "from nltk.tokenize import word_tokenize,RegexpTokenizer\n",
    "from keras.models import Sequential, load_model\n",
    "from keras.layers.core import Dense, Activation\n",
    "from keras.layers import LSTM\n",
    "import pickle\n",
    "from tensorflow.keras.optimizers import RMSprop\n",
    "from tensorflow.keras.preprocessing.text import Tokenizer\n",
    "import tensorflow as tf\n",
    "import random\n",
    "import sys\n",
    "\n",
    "from IPython.core.interactiveshell import InteractiveShell\n",
    "InteractiveShell.ast_node_interactivity = 'all'"
   ]
  },
  {
   "cell_type": "code",
   "execution_count": 11,
   "id": "217b63ac-2ace-496d-ae4f-ae465a65eb24",
   "metadata": {},
   "outputs": [
    {
     "data": {
      "text/plain": [
       "(6759, 14)"
      ]
     },
     "execution_count": 11,
     "metadata": {},
     "output_type": "execute_result"
    },
    {
     "data": {
      "text/html": [
       "<div>\n",
       "<style scoped>\n",
       "    .dataframe tbody tr th:only-of-type {\n",
       "        vertical-align: middle;\n",
       "    }\n",
       "\n",
       "    .dataframe tbody tr th {\n",
       "        vertical-align: top;\n",
       "    }\n",
       "\n",
       "    .dataframe thead th {\n",
       "        text-align: right;\n",
       "    }\n",
       "</style>\n",
       "<table border=\"1\" class=\"dataframe\">\n",
       "  <thead>\n",
       "    <tr style=\"text-align: right;\">\n",
       "      <th></th>\n",
       "      <th>Dataset</th>\n",
       "      <th>Partition</th>\n",
       "      <th>SentenceID</th>\n",
       "      <th>Threshold</th>\n",
       "      <th>MergedSelections</th>\n",
       "      <th>Unselected</th>\n",
       "      <th>Selected</th>\n",
       "      <th>Greeting</th>\n",
       "      <th>Backstory</th>\n",
       "      <th>Justification</th>\n",
       "      <th>Rant</th>\n",
       "      <th>Gratitude</th>\n",
       "      <th>Other</th>\n",
       "      <th>Express Emotion</th>\n",
       "    </tr>\n",
       "  </thead>\n",
       "  <tbody>\n",
       "    <tr>\n",
       "      <th>0</th>\n",
       "      <td>1</td>\n",
       "      <td>1</td>\n",
       "      <td>2227</td>\n",
       "      <td>2</td>\n",
       "      <td>[Just to set the scene... I have a fairly tall...</td>\n",
       "      <td>if we check in online, will this mean we auto...</td>\n",
       "      <td>Just to set the scene... I have a fairly tall ...</td>\n",
       "      <td>0</td>\n",
       "      <td>1</td>\n",
       "      <td>0</td>\n",
       "      <td>0</td>\n",
       "      <td>0</td>\n",
       "      <td>1</td>\n",
       "      <td>0</td>\n",
       "    </tr>\n",
       "    <tr>\n",
       "      <th>1</th>\n",
       "      <td>1</td>\n",
       "      <td>1</td>\n",
       "      <td>2182</td>\n",
       "      <td>2</td>\n",
       "      <td>I am flying from Luton to Dalaman (Turkey) nex...</td>\n",
       "      <td>I am flying from Luton to Dalaman (Turkey) nex...</td>\n",
       "      <td>We already have allocated seats, so as far as ...</td>\n",
       "      <td>0</td>\n",
       "      <td>1</td>\n",
       "      <td>0</td>\n",
       "      <td>0</td>\n",
       "      <td>0</td>\n",
       "      <td>1</td>\n",
       "      <td>0</td>\n",
       "    </tr>\n",
       "    <tr>\n",
       "      <th>2</th>\n",
       "      <td>1</td>\n",
       "      <td>1</td>\n",
       "      <td>2191</td>\n",
       "      <td>2</td>\n",
       "      <td>BA has won their case in the High Court attack...</td>\n",
       "      <td>BA has won their case in the High Court attack...</td>\n",
       "      <td>NaN</td>\n",
       "      <td>0</td>\n",
       "      <td>0</td>\n",
       "      <td>0</td>\n",
       "      <td>0</td>\n",
       "      <td>0</td>\n",
       "      <td>0</td>\n",
       "      <td>0</td>\n",
       "    </tr>\n",
       "    <tr>\n",
       "      <th>3</th>\n",
       "      <td>1</td>\n",
       "      <td>1</td>\n",
       "      <td>2183</td>\n",
       "      <td>2</td>\n",
       "      <td>[My family is flying from Hartford Ct to Honol...</td>\n",
       "      <td>does anyone know if we are allowed to take ou...</td>\n",
       "      <td>My family is flying from Hartford Ct to Honolu...</td>\n",
       "      <td>0</td>\n",
       "      <td>1</td>\n",
       "      <td>0</td>\n",
       "      <td>0</td>\n",
       "      <td>0</td>\n",
       "      <td>0</td>\n",
       "      <td>0</td>\n",
       "    </tr>\n",
       "    <tr>\n",
       "      <th>4</th>\n",
       "      <td>1</td>\n",
       "      <td>1</td>\n",
       "      <td>2198</td>\n",
       "      <td>2</td>\n",
       "      <td>I have been advised that the best seating is i...</td>\n",
       "      <td>I have been advised that the best seating is i...</td>\n",
       "      <td>NaN</td>\n",
       "      <td>0</td>\n",
       "      <td>0</td>\n",
       "      <td>0</td>\n",
       "      <td>0</td>\n",
       "      <td>0</td>\n",
       "      <td>0</td>\n",
       "      <td>0</td>\n",
       "    </tr>\n",
       "  </tbody>\n",
       "</table>\n",
       "</div>"
      ],
      "text/plain": [
       "   Dataset  Partition  SentenceID  Threshold  \\\n",
       "0        1          1        2227          2   \n",
       "1        1          1        2182          2   \n",
       "2        1          1        2191          2   \n",
       "3        1          1        2183          2   \n",
       "4        1          1        2198          2   \n",
       "\n",
       "                                    MergedSelections  \\\n",
       "0  [Just to set the scene... I have a fairly tall...   \n",
       "1  I am flying from Luton to Dalaman (Turkey) nex...   \n",
       "2  BA has won their case in the High Court attack...   \n",
       "3  [My family is flying from Hartford Ct to Honol...   \n",
       "4  I have been advised that the best seating is i...   \n",
       "\n",
       "                                          Unselected  \\\n",
       "0   if we check in online, will this mean we auto...   \n",
       "1  I am flying from Luton to Dalaman (Turkey) nex...   \n",
       "2  BA has won their case in the High Court attack...   \n",
       "3   does anyone know if we are allowed to take ou...   \n",
       "4  I have been advised that the best seating is i...   \n",
       "\n",
       "                                            Selected  Greeting  Backstory  \\\n",
       "0  Just to set the scene... I have a fairly tall ...         0          1   \n",
       "1  We already have allocated seats, so as far as ...         0          1   \n",
       "2                                                NaN         0          0   \n",
       "3  My family is flying from Hartford Ct to Honolu...         0          1   \n",
       "4                                                NaN         0          0   \n",
       "\n",
       "   Justification  Rant  Gratitude  Other  Express Emotion  \n",
       "0              0     0          0      1                0  \n",
       "1              0     0          0      1                0  \n",
       "2              0     0          0      0                0  \n",
       "3              0     0          0      0                0  \n",
       "4              0     0          0      0                0  "
      ]
     },
     "execution_count": 11,
     "metadata": {},
     "output_type": "execute_result"
    }
   ],
   "source": [
    "# read the dataset and shoaw shape and head\n",
    "\n",
    "# taking small dataset so it would not take time for training\n",
    "\n",
    "corpus = pd.read_csv('data/tagged_selections_by_sentence.csv')\n",
    "\n",
    "corpus.shape\n",
    "corpus.head()"
   ]
  },
  {
   "cell_type": "code",
   "execution_count": 12,
   "id": "5244cce9-fb50-4b5c-8564-39f7f370c344",
   "metadata": {},
   "outputs": [
    {
     "name": "stdout",
     "output_type": "stream",
     "text": [
      "<class 'pandas.core.frame.DataFrame'>\n",
      "RangeIndex: 6759 entries, 0 to 6758\n",
      "Data columns (total 14 columns):\n",
      " #   Column            Non-Null Count  Dtype \n",
      "---  ------            --------------  ----- \n",
      " 0   Dataset           6759 non-null   int64 \n",
      " 1   Partition         6759 non-null   int64 \n",
      " 2   SentenceID        6759 non-null   int64 \n",
      " 3   Threshold         6759 non-null   int64 \n",
      " 4   MergedSelections  6759 non-null   object\n",
      " 5   Unselected        6725 non-null   object\n",
      " 6   Selected          3790 non-null   object\n",
      " 7   Greeting          6759 non-null   int64 \n",
      " 8   Backstory         6759 non-null   int64 \n",
      " 9   Justification     6759 non-null   int64 \n",
      " 10  Rant              6759 non-null   int64 \n",
      " 11  Gratitude         6759 non-null   int64 \n",
      " 12  Other             6759 non-null   int64 \n",
      " 13  Express Emotion   6759 non-null   int64 \n",
      "dtypes: int64(11), object(3)\n",
      "memory usage: 739.4+ KB\n"
     ]
    }
   ],
   "source": [
    "# information of data\n",
    "\n",
    "corpus.info()"
   ]
  },
  {
   "cell_type": "markdown",
   "id": "08e04688-034c-4799-9ff7-b0f34b9df212",
   "metadata": {},
   "source": [
    "### Exploratory Data Analysis:"
   ]
  },
  {
   "cell_type": "code",
   "execution_count": 91,
   "id": "ac03f4f8-6cd9-4e6a-af2e-357d44586d0e",
   "metadata": {},
   "outputs": [],
   "source": [
    "# create new column\n",
    "\n",
    "def joint_texts(str1, str2):\n",
    "    \n",
    "    if str1 is np.nan:\n",
    "        \n",
    "        str1 = ''\n",
    "        \n",
    "        return str2\n",
    "\n",
    "    elif str2 is np.nan:\n",
    "        \n",
    "        str2 = ''\n",
    "        \n",
    "        return str1\n",
    "        \n",
    "    return str1 + ' '+ str2\n",
    "\n",
    "\n",
    "#  clean text \n",
    "\n",
    "def clean_text(x):\n",
    "    \n",
    "    x = ' '.join([w.strip() for w in x.split()])\n",
    "    \n",
    "    return re.sub(r'[^\\w]',' ',x)\n",
    "\n",
    "\n",
    "corpus['text_resp'] = corpus.apply(lambda x: joint_texts(x.Unselected,x.Selected),axis=1)\n",
    "\n",
    "corpus['text_resp'] = corpus['text_resp'].apply(lambda x: clean_text(x))"
   ]
  },
  {
   "cell_type": "code",
   "execution_count": 95,
   "id": "ec0758ae-0547-43e2-914f-19ffeda57666",
   "metadata": {},
   "outputs": [],
   "source": [
    "# create new column words list from text_resp & Count\n",
    "\n",
    "tokenizer = RegexpTokenizer('\\w+|\\$[\\d\\.]+|\\S+')\n",
    "\n",
    "corpus['words_list'] =  corpus['text_resp'].apply(lambda x: tokenizer.tokenize(x))\n",
    "corpus['unq_words_list'] = corpus['words_list'].apply(lambda x: np.unique(x))\n",
    "corpus['unq_words_list_cnt'] = corpus['unq_words_list'].apply(lambda x: len(x))"
   ]
  },
  {
   "cell_type": "code",
   "execution_count": 94,
   "id": "8836fc06-725b-4a31-9473-40ac312dc474",
   "metadata": {},
   "outputs": [
    {
     "data": {
      "text/html": [
       "<div>\n",
       "<style scoped>\n",
       "    .dataframe tbody tr th:only-of-type {\n",
       "        vertical-align: middle;\n",
       "    }\n",
       "\n",
       "    .dataframe tbody tr th {\n",
       "        vertical-align: top;\n",
       "    }\n",
       "\n",
       "    .dataframe thead th {\n",
       "        text-align: right;\n",
       "    }\n",
       "</style>\n",
       "<table border=\"1\" class=\"dataframe\">\n",
       "  <thead>\n",
       "    <tr style=\"text-align: right;\">\n",
       "      <th></th>\n",
       "      <th>Dataset</th>\n",
       "      <th>Partition</th>\n",
       "      <th>SentenceID</th>\n",
       "      <th>Threshold</th>\n",
       "      <th>MergedSelections</th>\n",
       "      <th>Unselected</th>\n",
       "      <th>Selected</th>\n",
       "      <th>Greeting</th>\n",
       "      <th>Backstory</th>\n",
       "      <th>Justification</th>\n",
       "      <th>Rant</th>\n",
       "      <th>Gratitude</th>\n",
       "      <th>Other</th>\n",
       "      <th>Express Emotion</th>\n",
       "      <th>text_resp</th>\n",
       "      <th>words_list</th>\n",
       "      <th>unq_words_list</th>\n",
       "      <th>unq_words_list_cnt</th>\n",
       "    </tr>\n",
       "  </thead>\n",
       "  <tbody>\n",
       "    <tr>\n",
       "      <th>0</th>\n",
       "      <td>1</td>\n",
       "      <td>1</td>\n",
       "      <td>2227</td>\n",
       "      <td>2</td>\n",
       "      <td>[Just to set the scene... I have a fairly tall...</td>\n",
       "      <td>if we check in online, will this mean we auto...</td>\n",
       "      <td>Just to set the scene... I have a fairly tall ...</td>\n",
       "      <td>0</td>\n",
       "      <td>1</td>\n",
       "      <td>0</td>\n",
       "      <td>0</td>\n",
       "      <td>0</td>\n",
       "      <td>1</td>\n",
       "      <td>0</td>\n",
       "      <td>if we check in online  will this mean we autom...</td>\n",
       "      <td>[if, we, check, in, online, will, this, mean, ...</td>\n",
       "      <td>[Bangkok, Emirates, I, Ideally, In, Just, My, ...</td>\n",
       "      <td>107</td>\n",
       "    </tr>\n",
       "    <tr>\n",
       "      <th>1</th>\n",
       "      <td>1</td>\n",
       "      <td>1</td>\n",
       "      <td>2182</td>\n",
       "      <td>2</td>\n",
       "      <td>I am flying from Luton to Dalaman (Turkey) nex...</td>\n",
       "      <td>I am flying from Luton to Dalaman (Turkey) nex...</td>\n",
       "      <td>We already have allocated seats, so as far as ...</td>\n",
       "      <td>0</td>\n",
       "      <td>1</td>\n",
       "      <td>0</td>\n",
       "      <td>0</td>\n",
       "      <td>0</td>\n",
       "      <td>1</td>\n",
       "      <td>0</td>\n",
       "      <td>I am flying from Luton to Dalaman  Turkey  nex...</td>\n",
       "      <td>[I, am, flying, from, Luton, to, Dalaman, Turk...</td>\n",
       "      <td>[1, 12, 2, Dalaman, I, Last, Luton, Monarch, N...</td>\n",
       "      <td>106</td>\n",
       "    </tr>\n",
       "    <tr>\n",
       "      <th>2</th>\n",
       "      <td>1</td>\n",
       "      <td>1</td>\n",
       "      <td>2191</td>\n",
       "      <td>2</td>\n",
       "      <td>BA has won their case in the High Court attack...</td>\n",
       "      <td>BA has won their case in the High Court attack...</td>\n",
       "      <td>NaN</td>\n",
       "      <td>0</td>\n",
       "      <td>0</td>\n",
       "      <td>0</td>\n",
       "      <td>0</td>\n",
       "      <td>0</td>\n",
       "      <td>0</td>\n",
       "      <td>0</td>\n",
       "      <td>BA has won their case in the High Court attack...</td>\n",
       "      <td>[BA, has, won, their, case, in, the, High, Cou...</td>\n",
       "      <td>[12, 4, BA, Christmas, Court, High, It, There,...</td>\n",
       "      <td>60</td>\n",
       "    </tr>\n",
       "    <tr>\n",
       "      <th>3</th>\n",
       "      <td>1</td>\n",
       "      <td>1</td>\n",
       "      <td>2183</td>\n",
       "      <td>2</td>\n",
       "      <td>[My family is flying from Hartford Ct to Honol...</td>\n",
       "      <td>does anyone know if we are allowed to take ou...</td>\n",
       "      <td>My family is flying from Hartford Ct to Honolu...</td>\n",
       "      <td>0</td>\n",
       "      <td>1</td>\n",
       "      <td>0</td>\n",
       "      <td>0</td>\n",
       "      <td>0</td>\n",
       "      <td>0</td>\n",
       "      <td>0</td>\n",
       "      <td>does anyone know if we are allowed to take our...</td>\n",
       "      <td>[does, anyone, know, if, we, are, allowed, to,...</td>\n",
       "      <td>[Ct, Hartford, Honolulu, My, Other, The, We, a...</td>\n",
       "      <td>55</td>\n",
       "    </tr>\n",
       "    <tr>\n",
       "      <th>4</th>\n",
       "      <td>1</td>\n",
       "      <td>1</td>\n",
       "      <td>2198</td>\n",
       "      <td>2</td>\n",
       "      <td>I have been advised that the best seating is i...</td>\n",
       "      <td>I have been advised that the best seating is i...</td>\n",
       "      <td>NaN</td>\n",
       "      <td>0</td>\n",
       "      <td>0</td>\n",
       "      <td>0</td>\n",
       "      <td>0</td>\n",
       "      <td>0</td>\n",
       "      <td>0</td>\n",
       "      <td>0</td>\n",
       "      <td>I have been advised that the best seating is i...</td>\n",
       "      <td>[I, have, been, advised, that, the, best, seat...</td>\n",
       "      <td>[2, 46, 48, I, If, abreast, advised, aircraft,...</td>\n",
       "      <td>31</td>\n",
       "    </tr>\n",
       "  </tbody>\n",
       "</table>\n",
       "</div>"
      ],
      "text/plain": [
       "   Dataset  Partition  SentenceID  Threshold  \\\n",
       "0        1          1        2227          2   \n",
       "1        1          1        2182          2   \n",
       "2        1          1        2191          2   \n",
       "3        1          1        2183          2   \n",
       "4        1          1        2198          2   \n",
       "\n",
       "                                    MergedSelections  \\\n",
       "0  [Just to set the scene... I have a fairly tall...   \n",
       "1  I am flying from Luton to Dalaman (Turkey) nex...   \n",
       "2  BA has won their case in the High Court attack...   \n",
       "3  [My family is flying from Hartford Ct to Honol...   \n",
       "4  I have been advised that the best seating is i...   \n",
       "\n",
       "                                          Unselected  \\\n",
       "0   if we check in online, will this mean we auto...   \n",
       "1  I am flying from Luton to Dalaman (Turkey) nex...   \n",
       "2  BA has won their case in the High Court attack...   \n",
       "3   does anyone know if we are allowed to take ou...   \n",
       "4  I have been advised that the best seating is i...   \n",
       "\n",
       "                                            Selected  Greeting  Backstory  \\\n",
       "0  Just to set the scene... I have a fairly tall ...         0          1   \n",
       "1  We already have allocated seats, so as far as ...         0          1   \n",
       "2                                                NaN         0          0   \n",
       "3  My family is flying from Hartford Ct to Honolu...         0          1   \n",
       "4                                                NaN         0          0   \n",
       "\n",
       "   Justification  Rant  Gratitude  Other  Express Emotion  \\\n",
       "0              0     0          0      1                0   \n",
       "1              0     0          0      1                0   \n",
       "2              0     0          0      0                0   \n",
       "3              0     0          0      0                0   \n",
       "4              0     0          0      0                0   \n",
       "\n",
       "                                           text_resp  \\\n",
       "0  if we check in online  will this mean we autom...   \n",
       "1  I am flying from Luton to Dalaman  Turkey  nex...   \n",
       "2  BA has won their case in the High Court attack...   \n",
       "3  does anyone know if we are allowed to take our...   \n",
       "4  I have been advised that the best seating is i...   \n",
       "\n",
       "                                          words_list  \\\n",
       "0  [if, we, check, in, online, will, this, mean, ...   \n",
       "1  [I, am, flying, from, Luton, to, Dalaman, Turk...   \n",
       "2  [BA, has, won, their, case, in, the, High, Cou...   \n",
       "3  [does, anyone, know, if, we, are, allowed, to,...   \n",
       "4  [I, have, been, advised, that, the, best, seat...   \n",
       "\n",
       "                                      unq_words_list  unq_words_list_cnt  \n",
       "0  [Bangkok, Emirates, I, Ideally, In, Just, My, ...                 107  \n",
       "1  [1, 12, 2, Dalaman, I, Last, Luton, Monarch, N...                 106  \n",
       "2  [12, 4, BA, Christmas, Court, High, It, There,...                  60  \n",
       "3  [Ct, Hartford, Honolulu, My, Other, The, We, a...                  55  \n",
       "4  [2, 46, 48, I, If, abreast, advised, aircraft,...                  31  "
      ]
     },
     "execution_count": 94,
     "metadata": {},
     "output_type": "execute_result"
    }
   ],
   "source": [
    "# show new columns \n",
    "\n",
    "corpus.head()"
   ]
  },
  {
   "cell_type": "code",
   "execution_count": 61,
   "id": "70573caa-c9b7-4e58-b1c7-afebbdd51f89",
   "metadata": {},
   "outputs": [
    {
     "name": "stderr",
     "output_type": "stream",
     "text": [
      "/Users/ganeshkale/work/virtual_envs/venv/lib/python3.8/site-packages/seaborn/distributions.py:2619: FutureWarning: `distplot` is a deprecated function and will be removed in a future version. Please adapt your code to use either `displot` (a figure-level function with similar flexibility) or `histplot` (an axes-level function for histograms).\n",
      "  warnings.warn(msg, FutureWarning)\n"
     ]
    },
    {
     "data": {
      "image/png": "[encoded data removed]",
      "text/plain": [
       "<Figure size 864x504 with 1 Axes>"
      ]
     },
     "metadata": {},
     "output_type": "display_data"
    }
   ],
   "source": [
    "# distribution of unique wrods\n",
    "\n",
    "plt.figure(figsize=(12,7))\n",
    "\n",
    "sns.set(style='white')\n",
    "\n",
    "sns.distplot(a=corpus['unq_words_list_cnt'],bins=40)\n",
    "plt.title('Distribution of Unique words in data');"
   ]
  },
  {
   "cell_type": "code",
   "execution_count": 62,
   "id": "adc9ef1c-3529-4093-95b3-651d6385b923",
   "metadata": {},
   "outputs": [
    {
     "data": {
      "text/plain": [
       "<Figure size 864x504 with 0 Axes>"
      ]
     },
     "execution_count": 62,
     "metadata": {},
     "output_type": "execute_result"
    },
    {
     "data": {
      "text/plain": [
       "<AxesSubplot:xlabel='Greeting', ylabel='count'>"
      ]
     },
     "execution_count": 62,
     "metadata": {},
     "output_type": "execute_result"
    },
    {
     "data": {
      "text/plain": [
       "Text(0.5, 1.0, 'Distribution of Greeting')"
      ]
     },
     "execution_count": 62,
     "metadata": {},
     "output_type": "execute_result"
    },
    {
     "data": {
      "text/plain": [
       "<Figure size 864x504 with 0 Axes>"
      ]
     },
     "execution_count": 62,
     "metadata": {},
     "output_type": "execute_result"
    },
    {
     "data": {
      "text/plain": [
       "<AxesSubplot:xlabel='Gratitude', ylabel='count'>"
      ]
     },
     "execution_count": 62,
     "metadata": {},
     "output_type": "execute_result"
    },
    {
     "data": {
      "text/plain": [
       "Text(0.5, 1.0, 'Distribution of Gratitude')"
      ]
     },
     "execution_count": 62,
     "metadata": {},
     "output_type": "execute_result"
    },
    {
     "data": {
      "text/plain": [
       "<Figure size 864x504 with 0 Axes>"
      ]
     },
     "execution_count": 62,
     "metadata": {},
     "output_type": "execute_result"
    },
    {
     "data": {
      "text/plain": [
       "<AxesSubplot:xlabel='Rant', ylabel='count'>"
      ]
     },
     "execution_count": 62,
     "metadata": {},
     "output_type": "execute_result"
    },
    {
     "data": {
      "text/plain": [
       "Text(0.5, 1.0, 'Distribution of Rant')"
      ]
     },
     "execution_count": 62,
     "metadata": {},
     "output_type": "execute_result"
    },
    {
     "data": {
      "text/plain": [
       "<Figure size 864x504 with 0 Axes>"
      ]
     },
     "execution_count": 62,
     "metadata": {},
     "output_type": "execute_result"
    },
    {
     "data": {
      "text/plain": [
       "<AxesSubplot:xlabel='Backstory', ylabel='count'>"
      ]
     },
     "execution_count": 62,
     "metadata": {},
     "output_type": "execute_result"
    },
    {
     "data": {
      "text/plain": [
       "Text(0.5, 1.0, 'Distribution of Backstory')"
      ]
     },
     "execution_count": 62,
     "metadata": {},
     "output_type": "execute_result"
    },
    {
     "data": {
      "text/plain": [
       "<Figure size 864x504 with 0 Axes>"
      ]
     },
     "execution_count": 62,
     "metadata": {},
     "output_type": "execute_result"
    },
    {
     "data": {
      "text/plain": [
       "<AxesSubplot:xlabel='Justification', ylabel='count'>"
      ]
     },
     "execution_count": 62,
     "metadata": {},
     "output_type": "execute_result"
    },
    {
     "data": {
      "text/plain": [
       "Text(0.5, 1.0, 'Distribution of Justification')"
      ]
     },
     "execution_count": 62,
     "metadata": {},
     "output_type": "execute_result"
    },
    {
     "data": {
      "text/plain": [
       "<Figure size 864x504 with 0 Axes>"
      ]
     },
     "execution_count": 62,
     "metadata": {},
     "output_type": "execute_result"
    },
    {
     "data": {
      "text/plain": [
       "<AxesSubplot:xlabel='Express Emotion', ylabel='count'>"
      ]
     },
     "execution_count": 62,
     "metadata": {},
     "output_type": "execute_result"
    },
    {
     "data": {
      "text/plain": [
       "Text(0.5, 1.0, 'Distribution of Express Emotion')"
      ]
     },
     "execution_count": 62,
     "metadata": {},
     "output_type": "execute_result"
    },
    {
     "data": {
      "image/png": "[encoded data removed]",
      "text/plain": [
       "<Figure size 864x504 with 1 Axes>"
      ]
     },
     "metadata": {},
     "output_type": "display_data"
    },
    {
     "data": {
      "image/png": "[encoded data removed]",
      "text/plain": [
       "<Figure size 864x504 with 1 Axes>"
      ]
     },
     "metadata": {},
     "output_type": "display_data"
    },
    {
     "data": {
      "image/png": "[encoded data removed]",
      "text/plain": [
       "<Figure size 864x504 with 1 Axes>"
      ]
     },
     "metadata": {},
     "output_type": "display_data"
    },
    {
     "data": {
      "image/png": "[encoded data removed]",
      "text/plain": [
       "<Figure size 864x504 with 1 Axes>"
      ]
     },
     "metadata": {},
     "output_type": "display_data"
    },
    {
     "data": {
      "image/png": "[encoded data removed]",
      "text/plain": [
       "<Figure size 864x504 with 1 Axes>"
      ]
     },
     "metadata": {},
     "output_type": "display_data"
    },
    {
     "data": {
      "image/png": "[encoded data removed]",
      "text/plain": [
       "<Figure size 864x504 with 1 Axes>"
      ]
     },
     "metadata": {},
     "output_type": "display_data"
    }
   ],
   "source": [
    "#  display distribution of boolean columns\n",
    "\n",
    "bool_cols  = ['Greeting','Gratitude','Rant','Backstory','Justification','Express Emotion']\n",
    "\n",
    "for col in bool_cols:\n",
    "    \n",
    "    plt.figure(figsize=(12,7))\n",
    "    sns.set(style='white')\n",
    "    \n",
    "    sns.countplot(data=corpus, x=col)\n",
    "    plt.title(f'Distribution of {col}');"
   ]
  },
  {
   "cell_type": "code",
   "execution_count": 96,
   "id": "56203deb-d335-4d90-a198-3dd83ce3c7f6",
   "metadata": {},
   "outputs": [
    {
     "name": "stdout",
     "output_type": "stream",
     "text": [
      "['if', 'we', 'check', 'in', 'online']\n",
      "will\n"
     ]
    }
   ],
   "source": [
    "# feature engineering\n",
    "\n",
    "texts = ' '.join(corpus['text_resp'].to_list())\n",
    "words = tokenizer.tokenize(texts)\n",
    "\n",
    "LENGTH_WORD = 5\n",
    "next_words = []\n",
    "prev_words = []\n",
    "\n",
    "for j in range(len(words) - LENGTH_WORD):\n",
    "    prev_words.append(words[j:j + LENGTH_WORD])\n",
    "    next_words.append(words[j + LENGTH_WORD])\n",
    "    \n",
    "print(prev_words[0])\n",
    "print(next_words[0])"
   ]
  },
  {
   "cell_type": "markdown",
   "id": "13dfbd65-3353-4e44-88fc-a6fb4d3191ab",
   "metadata": {},
   "source": [
    "### Modeling:"
   ]
  },
  {
   "cell_type": "code",
   "execution_count": 97,
   "id": "e4fc428b-d641-436a-83e0-fe07b289a31a",
   "metadata": {},
   "outputs": [],
   "source": [
    "# Storing features and labels:\n",
    "\n",
    "unique_words = np.unique(words)\n",
    "unique_word_index = dict((c, i) for i, c in enumerate(unique_words))\n",
    "\n",
    "X = np.zeros((len(prev_words), LENGTH_WORD, len(unique_words)), dtype=bool)\n",
    "Y = np.zeros((len(next_words), len(unique_words)), dtype=bool)\n",
    "\n",
    "for i, each_words in enumerate(prev_words):\n",
    "    for j, each_word in enumerate(each_words):\n",
    "        X[i, j, unique_word_index[each_word]] = 1\n",
    "    Y[i, unique_word_index[next_words[i]]] = 1"
   ]
  },
  {
   "cell_type": "code",
   "execution_count": 100,
   "id": "3d870c67-5403-4d04-9d74-640fe1027850",
   "metadata": {},
   "outputs": [
    {
     "name": "stdout",
     "output_type": "stream",
     "text": [
      "Model: \"sequential_2\"\n",
      "_________________________________________________________________\n",
      " Layer (type)                Output Shape              Param #   \n",
      "=================================================================\n",
      " lstm (LSTM)                 (None, 128)               6945792   \n",
      "                                                                 \n",
      " dense (Dense)               (None, 13437)             1733373   \n",
      "                                                                 \n",
      " activation (Activation)     (None, 13437)             0         \n",
      "                                                                 \n",
      "=================================================================\n",
      "Total params: 8,679,165\n",
      "Trainable params: 8,679,165\n",
      "Non-trainable params: 0\n",
      "_________________________________________________________________\n"
     ]
    }
   ],
   "source": [
    "# building Model using LSTM model\n",
    "\n",
    "model = Sequential()\n",
    "model.add(LSTM(128, input_shape=(LENGTH_WORD, len(unique_words))))\n",
    "model.add(Dense(len(unique_words)))\n",
    "model.add(Activation('softmax'))\n",
    "model.summary()"
   ]
  },
  {
   "cell_type": "code",
   "execution_count": 102,
   "id": "0f1164ce-473e-4fb6-803e-d885fb1e6adb",
   "metadata": {},
   "outputs": [
    {
     "name": "stdout",
     "output_type": "stream",
     "text": [
      "Epoch 1/2\n"
     ]
    },
    {
     "name": "stderr",
     "output_type": "stream",
     "text": [
      "/Users/ganeshkale/work/virtual_envs/venv/lib/python3.8/site-packages/keras/optimizer_v2/rmsprop.py:130: UserWarning: The `lr` argument is deprecated, use `learning_rate` instead.\n",
      "  super(RMSprop, self).__init__(name, **kwargs)\n"
     ]
    },
    {
     "name": "stdout",
     "output_type": "stream",
     "text": [
      "1634/1634 [==============================] - 684s 417ms/step - loss: 6.1969 - accuracy: 0.1261 - val_loss: 5.9258 - val_accuracy: 0.1738\n",
      "Epoch 2/2\n",
      "1634/1634 [==============================] - 701s 429ms/step - loss: 6.0583 - accuracy: 0.1685 - val_loss: 5.7913 - val_accuracy: 0.1905\n"
     ]
    }
   ],
   "source": [
    "# train the model\n",
    "\n",
    "optimizer = RMSprop(lr=0.01)\n",
    "\n",
    "model.compile(loss='categorical_crossentropy', optimizer=optimizer, metrics=['accuracy'])\n",
    "\n",
    "history = model.fit(X, Y, validation_split=0.05, batch_size=128, epochs=2, shuffle=True).history"
   ]
  },
  {
   "cell_type": "code",
   "execution_count": 103,
   "id": "a936e47a-887c-4495-8d8f-3e0aa9a07fea",
   "metadata": {},
   "outputs": [],
   "source": [
    "#  save the model\n",
    "\n",
    "model.save('next_word_model.h5')\n",
    "pickle.dump(history, open(\"history.p\", \"wb\"))\n",
    "model = load_model('next_word_model.h5')\n",
    "history = pickle.load(open(\"history.p\", \"rb\"))"
   ]
  },
  {
   "cell_type": "code",
   "execution_count": 110,
   "id": "a2f55881-503c-4b35-9d56-cba262f28e32",
   "metadata": {},
   "outputs": [
    {
     "data": {
      "image/png": "[encoded data removed]",
      "text/plain": [
       "<Figure size 864x504 with 1 Axes>"
      ]
     },
     "metadata": {},
     "output_type": "display_data"
    }
   ],
   "source": [
    "#  evaluating model \n",
    "\n",
    "plt.figure(figsize=(12,7))\n",
    "sns.set(style='white')\n",
    "plt.plot(history['accuracy'])\n",
    "plt.plot(history['val_accuracy'])\n",
    "plt.title('model accuracy')\n",
    "plt.ylabel('accuracy')\n",
    "plt.xlabel('epoch')\n",
    "plt.legend(['train', 'test'], loc='upper left');"
   ]
  },
  {
   "cell_type": "code",
   "execution_count": 111,
   "id": "c4c7d36a-274b-46f0-a499-bfbcbd976a19",
   "metadata": {},
   "outputs": [
    {
     "data": {
      "image/png": "[encoded data removed]",
      "text/plain": [
       "<Figure size 864x504 with 1 Axes>"
      ]
     },
     "metadata": {},
     "output_type": "display_data"
    }
   ],
   "source": [
    "plt.figure(figsize=(12,7))\n",
    "sns.set(style='white')\n",
    "plt.plot(history['loss'])\n",
    "plt.plot(history['val_loss'])\n",
    "plt.title('model loss')\n",
    "plt.ylabel('loss')\n",
    "plt.xlabel('epoch')\n",
    "plt.legend(['train', 'test'], loc='upper left');"
   ]
  },
  {
   "cell_type": "code",
   "execution_count": 127,
   "id": "cede309b-b00f-43b6-8241-1fa68ced76f5",
   "metadata": {},
   "outputs": [],
   "source": [
    "def generate_text(sample_text, temperatures):\n",
    "    \n",
    "    # start_index = random.randint(0, len(texttext_data) - maxlen - 1)\n",
    "    # generated_text = text_data[start_index: start_index + maxlen]\n",
    "    generated_text = sample_text.lower()\n",
    "    print('--- Generating with seed: \"' + generated_text + '\"')\n",
    " \n",
    "    for temperature in temperatures:\n",
    "        print('\\n------ temperature:', temperature)\n",
    "        sys.stdout.write(generated_text)\n",
    "        for i in range(400):\n",
    "            sampled = np.zeros((1, maxlen, len(chars)))\n",
    "            for t, char in enumerate(generated_text):\n",
    "                sampled[0, t, char_indices[char]] = 1.\n",
    "            preds = model.predict(sampled, verbose=0)[0]\n",
    "            next_index = sample(preds, temperature)\n",
    "            next_char = chars[next_index]\n",
    "            generated_text += next_char\n",
    "            generated_text = generated_text[1:]\n",
    "            sys.stdout.write(next_char)"
   ]
  },
  {
   "cell_type": "markdown",
   "id": "a931e1c1-32fe-463f-8322-bdd1fe7f931a",
   "metadata": {},
   "source": [
    "## END"
   ]
  }
 ],
 "metadata": {
  "kernelspec": {
   "display_name": "Python 3 (ipykernel)",
   "language": "python",
   "name": "python3"
  },
  "language_info": {
   "codemirror_mode": {
    "name": "ipython",
    "version": 3
   },
   "file_extension": ".py",
   "mimetype": "text/x-python",
   "name": "python",
   "nbconvert_exporter": "python",
   "pygments_lexer": "ipython3",
   "version": "3.8.2"
  }
 },
 "nbformat": 4,
 "nbformat_minor": 5
}
